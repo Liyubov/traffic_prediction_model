{
  "nbformat": 4,
  "nbformat_minor": 0,
  "metadata": {
    "colab": {
      "provenance": []
    },
    "kernelspec": {
      "name": "python3",
      "display_name": "Python 3"
    },
    "language_info": {
      "name": "python"
    },
    "widgets": {
      "application/vnd.jupyter.widget-state+json": {
        "eff7fa3000fa407b864df13c2c3a21b0": {
          "model_module": "@jupyter-widgets/controls",
          "model_name": "HBoxModel",
          "model_module_version": "1.5.0",
          "state": {
            "_dom_classes": [],
            "_model_module": "@jupyter-widgets/controls",
            "_model_module_version": "1.5.0",
            "_model_name": "HBoxModel",
            "_view_count": null,
            "_view_module": "@jupyter-widgets/controls",
            "_view_module_version": "1.5.0",
            "_view_name": "HBoxView",
            "box_style": "",
            "children": [
              "IPY_MODEL_9329cfec3ce3400a8c2def76da434ab5",
              "IPY_MODEL_dd187921a328459f8137653779084136",
              "IPY_MODEL_3832eab457a249828331870be328d59f"
            ],
            "layout": "IPY_MODEL_f8b79e48a887434ebee660011617828f"
          }
        },
        "9329cfec3ce3400a8c2def76da434ab5": {
          "model_module": "@jupyter-widgets/controls",
          "model_name": "HTMLModel",
          "model_module_version": "1.5.0",
          "state": {
            "_dom_classes": [],
            "_model_module": "@jupyter-widgets/controls",
            "_model_module_version": "1.5.0",
            "_model_name": "HTMLModel",
            "_view_count": null,
            "_view_module": "@jupyter-widgets/controls",
            "_view_module_version": "1.5.0",
            "_view_name": "HTMLView",
            "description": "",
            "description_tooltip": null,
            "layout": "IPY_MODEL_fece25e2a21d46d3a717323c9f9e03e6",
            "placeholder": "​",
            "style": "IPY_MODEL_54ad5ba4683840df9ce48795f467506b",
            "value": "Computing transition probabilities: 100%"
          }
        },
        "dd187921a328459f8137653779084136": {
          "model_module": "@jupyter-widgets/controls",
          "model_name": "FloatProgressModel",
          "model_module_version": "1.5.0",
          "state": {
            "_dom_classes": [],
            "_model_module": "@jupyter-widgets/controls",
            "_model_module_version": "1.5.0",
            "_model_name": "FloatProgressModel",
            "_view_count": null,
            "_view_module": "@jupyter-widgets/controls",
            "_view_module_version": "1.5.0",
            "_view_name": "ProgressView",
            "bar_style": "success",
            "description": "",
            "description_tooltip": null,
            "layout": "IPY_MODEL_1243c733e6f144279274dbde10dd9e34",
            "max": 4,
            "min": 0,
            "orientation": "horizontal",
            "style": "IPY_MODEL_bd48e66e78514c789b3cae2c1f270b90",
            "value": 4
          }
        },
        "3832eab457a249828331870be328d59f": {
          "model_module": "@jupyter-widgets/controls",
          "model_name": "HTMLModel",
          "model_module_version": "1.5.0",
          "state": {
            "_dom_classes": [],
            "_model_module": "@jupyter-widgets/controls",
            "_model_module_version": "1.5.0",
            "_model_name": "HTMLModel",
            "_view_count": null,
            "_view_module": "@jupyter-widgets/controls",
            "_view_module_version": "1.5.0",
            "_view_name": "HTMLView",
            "description": "",
            "description_tooltip": null,
            "layout": "IPY_MODEL_c17572cfe0504b49b7e5dd15be55f75f",
            "placeholder": "​",
            "style": "IPY_MODEL_36d447f1b85c49a5a98a082d09f577c4",
            "value": " 4/4 [00:00&lt;00:00, 183.54it/s]"
          }
        },
        "f8b79e48a887434ebee660011617828f": {
          "model_module": "@jupyter-widgets/base",
          "model_name": "LayoutModel",
          "model_module_version": "1.2.0",
          "state": {
            "_model_module": "@jupyter-widgets/base",
            "_model_module_version": "1.2.0",
            "_model_name": "LayoutModel",
            "_view_count": null,
            "_view_module": "@jupyter-widgets/base",
            "_view_module_version": "1.2.0",
            "_view_name": "LayoutView",
            "align_content": null,
            "align_items": null,
            "align_self": null,
            "border": null,
            "bottom": null,
            "display": null,
            "flex": null,
            "flex_flow": null,
            "grid_area": null,
            "grid_auto_columns": null,
            "grid_auto_flow": null,
            "grid_auto_rows": null,
            "grid_column": null,
            "grid_gap": null,
            "grid_row": null,
            "grid_template_areas": null,
            "grid_template_columns": null,
            "grid_template_rows": null,
            "height": null,
            "justify_content": null,
            "justify_items": null,
            "left": null,
            "margin": null,
            "max_height": null,
            "max_width": null,
            "min_height": null,
            "min_width": null,
            "object_fit": null,
            "object_position": null,
            "order": null,
            "overflow": null,
            "overflow_x": null,
            "overflow_y": null,
            "padding": null,
            "right": null,
            "top": null,
            "visibility": null,
            "width": null
          }
        },
        "fece25e2a21d46d3a717323c9f9e03e6": {
          "model_module": "@jupyter-widgets/base",
          "model_name": "LayoutModel",
          "model_module_version": "1.2.0",
          "state": {
            "_model_module": "@jupyter-widgets/base",
            "_model_module_version": "1.2.0",
            "_model_name": "LayoutModel",
            "_view_count": null,
            "_view_module": "@jupyter-widgets/base",
            "_view_module_version": "1.2.0",
            "_view_name": "LayoutView",
            "align_content": null,
            "align_items": null,
            "align_self": null,
            "border": null,
            "bottom": null,
            "display": null,
            "flex": null,
            "flex_flow": null,
            "grid_area": null,
            "grid_auto_columns": null,
            "grid_auto_flow": null,
            "grid_auto_rows": null,
            "grid_column": null,
            "grid_gap": null,
            "grid_row": null,
            "grid_template_areas": null,
            "grid_template_columns": null,
            "grid_template_rows": null,
            "height": null,
            "justify_content": null,
            "justify_items": null,
            "left": null,
            "margin": null,
            "max_height": null,
            "max_width": null,
            "min_height": null,
            "min_width": null,
            "object_fit": null,
            "object_position": null,
            "order": null,
            "overflow": null,
            "overflow_x": null,
            "overflow_y": null,
            "padding": null,
            "right": null,
            "top": null,
            "visibility": null,
            "width": null
          }
        },
        "54ad5ba4683840df9ce48795f467506b": {
          "model_module": "@jupyter-widgets/controls",
          "model_name": "DescriptionStyleModel",
          "model_module_version": "1.5.0",
          "state": {
            "_model_module": "@jupyter-widgets/controls",
            "_model_module_version": "1.5.0",
            "_model_name": "DescriptionStyleModel",
            "_view_count": null,
            "_view_module": "@jupyter-widgets/base",
            "_view_module_version": "1.2.0",
            "_view_name": "StyleView",
            "description_width": ""
          }
        },
        "1243c733e6f144279274dbde10dd9e34": {
          "model_module": "@jupyter-widgets/base",
          "model_name": "LayoutModel",
          "model_module_version": "1.2.0",
          "state": {
            "_model_module": "@jupyter-widgets/base",
            "_model_module_version": "1.2.0",
            "_model_name": "LayoutModel",
            "_view_count": null,
            "_view_module": "@jupyter-widgets/base",
            "_view_module_version": "1.2.0",
            "_view_name": "LayoutView",
            "align_content": null,
            "align_items": null,
            "align_self": null,
            "border": null,
            "bottom": null,
            "display": null,
            "flex": null,
            "flex_flow": null,
            "grid_area": null,
            "grid_auto_columns": null,
            "grid_auto_flow": null,
            "grid_auto_rows": null,
            "grid_column": null,
            "grid_gap": null,
            "grid_row": null,
            "grid_template_areas": null,
            "grid_template_columns": null,
            "grid_template_rows": null,
            "height": null,
            "justify_content": null,
            "justify_items": null,
            "left": null,
            "margin": null,
            "max_height": null,
            "max_width": null,
            "min_height": null,
            "min_width": null,
            "object_fit": null,
            "object_position": null,
            "order": null,
            "overflow": null,
            "overflow_x": null,
            "overflow_y": null,
            "padding": null,
            "right": null,
            "top": null,
            "visibility": null,
            "width": null
          }
        },
        "bd48e66e78514c789b3cae2c1f270b90": {
          "model_module": "@jupyter-widgets/controls",
          "model_name": "ProgressStyleModel",
          "model_module_version": "1.5.0",
          "state": {
            "_model_module": "@jupyter-widgets/controls",
            "_model_module_version": "1.5.0",
            "_model_name": "ProgressStyleModel",
            "_view_count": null,
            "_view_module": "@jupyter-widgets/base",
            "_view_module_version": "1.2.0",
            "_view_name": "StyleView",
            "bar_color": null,
            "description_width": ""
          }
        },
        "c17572cfe0504b49b7e5dd15be55f75f": {
          "model_module": "@jupyter-widgets/base",
          "model_name": "LayoutModel",
          "model_module_version": "1.2.0",
          "state": {
            "_model_module": "@jupyter-widgets/base",
            "_model_module_version": "1.2.0",
            "_model_name": "LayoutModel",
            "_view_count": null,
            "_view_module": "@jupyter-widgets/base",
            "_view_module_version": "1.2.0",
            "_view_name": "LayoutView",
            "align_content": null,
            "align_items": null,
            "align_self": null,
            "border": null,
            "bottom": null,
            "display": null,
            "flex": null,
            "flex_flow": null,
            "grid_area": null,
            "grid_auto_columns": null,
            "grid_auto_flow": null,
            "grid_auto_rows": null,
            "grid_column": null,
            "grid_gap": null,
            "grid_row": null,
            "grid_template_areas": null,
            "grid_template_columns": null,
            "grid_template_rows": null,
            "height": null,
            "justify_content": null,
            "justify_items": null,
            "left": null,
            "margin": null,
            "max_height": null,
            "max_width": null,
            "min_height": null,
            "min_width": null,
            "object_fit": null,
            "object_position": null,
            "order": null,
            "overflow": null,
            "overflow_x": null,
            "overflow_y": null,
            "padding": null,
            "right": null,
            "top": null,
            "visibility": null,
            "width": null
          }
        },
        "36d447f1b85c49a5a98a082d09f577c4": {
          "model_module": "@jupyter-widgets/controls",
          "model_name": "DescriptionStyleModel",
          "model_module_version": "1.5.0",
          "state": {
            "_model_module": "@jupyter-widgets/controls",
            "_model_module_version": "1.5.0",
            "_model_name": "DescriptionStyleModel",
            "_view_count": null,
            "_view_module": "@jupyter-widgets/base",
            "_view_module_version": "1.2.0",
            "_view_name": "StyleView",
            "description_width": ""
          }
        }
      }
    }
  },
  "cells": [
    {
      "cell_type": "code",
      "execution_count": null,
      "metadata": {
        "id": "V2OGdhh67gsf"
      },
      "outputs": [],
      "source": [
        "\n",
        "\n"
      ]
    },
    {
      "cell_type": "markdown",
      "source": [
        "# Embedding nodes properties and node attributes\n",
        "We will deconstruct, what GCN is doing by considering what each embedding (of structural properties is doing) and what the time-series for nodes are doing.\n",
        "\n",
        "We use 2 steps for this\n",
        "## step 1: generate Node Embeddings using node2vec\n",
        "\n",
        "Use the node2vec library to generate embeddings that capture the structural information of the nodes in the graph.\n",
        "\n",
        "## step 2: generate embedding of attributes\n",
        "\n"
      ],
      "metadata": {
        "id": "jY1RpB9x7k61"
      }
    },
    {
      "cell_type": "code",
      "source": [
        "!pip install node2vec"
      ],
      "metadata": {
        "colab": {
          "base_uri": "https://localhost:8080/"
        },
        "id": "gA5vKlod9Voe",
        "outputId": "030b9ad6-8117-428e-e485-4525e9f305a7"
      },
      "execution_count": 9,
      "outputs": [
        {
          "output_type": "stream",
          "name": "stdout",
          "text": [
            "Collecting node2vec\n",
            "  Downloading node2vec-0.5.0-py3-none-any.whl.metadata (849 bytes)\n",
            "Requirement already satisfied: gensim<5.0.0,>=4.3.0 in /usr/local/lib/python3.11/dist-packages (from node2vec) (4.3.3)\n",
            "Requirement already satisfied: joblib<2.0.0,>=1.4.0 in /usr/local/lib/python3.11/dist-packages (from node2vec) (1.4.2)\n",
            "Requirement already satisfied: networkx<4.0.0,>=3.1.0 in /usr/local/lib/python3.11/dist-packages (from node2vec) (3.4.2)\n",
            "Requirement already satisfied: numpy<2.0.0,>=1.24.0 in /usr/local/lib/python3.11/dist-packages (from node2vec) (1.26.4)\n",
            "Requirement already satisfied: tqdm<5.0.0,>=4.66.1 in /usr/local/lib/python3.11/dist-packages (from node2vec) (4.67.1)\n",
            "Requirement already satisfied: scipy<1.14.0,>=1.7.0 in /usr/local/lib/python3.11/dist-packages (from gensim<5.0.0,>=4.3.0->node2vec) (1.13.1)\n",
            "Requirement already satisfied: smart-open>=1.8.1 in /usr/local/lib/python3.11/dist-packages (from gensim<5.0.0,>=4.3.0->node2vec) (7.1.0)\n",
            "Requirement already satisfied: wrapt in /usr/local/lib/python3.11/dist-packages (from smart-open>=1.8.1->gensim<5.0.0,>=4.3.0->node2vec) (1.17.0)\n",
            "Downloading node2vec-0.5.0-py3-none-any.whl (7.2 kB)\n",
            "Installing collected packages: node2vec\n",
            "Successfully installed node2vec-0.5.0\n"
          ]
        }
      ]
    },
    {
      "cell_type": "code",
      "source": [
        "from node2vec import Node2Vec\n",
        "import networkx as nx\n",
        "\n",
        "# Create a graph\n",
        "G = nx.Graph()\n",
        "G.add_edges_from([(1, 2), (2, 3), (3, 4), (4, 1)])\n",
        "\n",
        "# Generate node2vec embeddings\n",
        "node2vec = Node2Vec(G, dimensions=64, walk_length=30, num_walks=200, workers=4)\n",
        "model = node2vec.fit(window=10, min_count=1, batch_words=4)\n",
        "\n",
        "# Get embeddings for each node\n",
        "structural_embeddings = {node: model.wv[str(node)] for node in G.nodes()}\n"
      ],
      "metadata": {
        "colab": {
          "base_uri": "https://localhost:8080/",
          "height": 49,
          "referenced_widgets": [
            "eff7fa3000fa407b864df13c2c3a21b0",
            "9329cfec3ce3400a8c2def76da434ab5",
            "dd187921a328459f8137653779084136",
            "3832eab457a249828331870be328d59f",
            "f8b79e48a887434ebee660011617828f",
            "fece25e2a21d46d3a717323c9f9e03e6",
            "54ad5ba4683840df9ce48795f467506b",
            "1243c733e6f144279274dbde10dd9e34",
            "bd48e66e78514c789b3cae2c1f270b90",
            "c17572cfe0504b49b7e5dd15be55f75f",
            "36d447f1b85c49a5a98a082d09f577c4"
          ]
        },
        "id": "4eEFBmb97iTs",
        "outputId": "e90f24de-4cea-468e-d60a-119977eda2ca"
      },
      "execution_count": 10,
      "outputs": [
        {
          "output_type": "display_data",
          "data": {
            "text/plain": [
              "Computing transition probabilities:   0%|          | 0/4 [00:00<?, ?it/s]"
            ],
            "application/vnd.jupyter.widget-view+json": {
              "version_major": 2,
              "version_minor": 0,
              "model_id": "eff7fa3000fa407b864df13c2c3a21b0"
            }
          },
          "metadata": {}
        }
      ]
    },
    {
      "cell_type": "code",
      "source": [
        "print(structural_embeddings)"
      ],
      "metadata": {
        "colab": {
          "base_uri": "https://localhost:8080/"
        },
        "id": "Vk2bib029kk1",
        "outputId": "589547d6-e11e-400c-bc09-0081355ea413"
      },
      "execution_count": 11,
      "outputs": [
        {
          "output_type": "stream",
          "name": "stdout",
          "text": [
            "{1: array([-0.02631349,  0.05089882,  0.17280838,  0.14105776, -0.12393833,\n",
            "       -0.17387788,  0.11665705,  0.2706954 ,  0.00486176, -0.03152571,\n",
            "        0.21411921,  0.0916369 ,  0.15909027,  0.05304003, -0.23802675,\n",
            "       -0.08597304, -0.06934562,  0.18728486, -0.03112677, -0.11849643,\n",
            "        0.14588998,  0.11832988,  0.30683884, -0.19891143,  0.10072954,\n",
            "        0.12988633, -0.07587767,  0.15272784, -0.01583031, -0.00756422,\n",
            "       -0.06256703,  0.06438688,  0.01060378, -0.16112167, -0.02108328,\n",
            "        0.00207937,  0.03760183,  0.04577088,  0.18683806, -0.14921485,\n",
            "       -0.03411896,  0.08479237, -0.22927839, -0.13514379,  0.04177726,\n",
            "        0.05127777, -0.11240242, -0.02732335, -0.11053132,  0.17460172,\n",
            "       -0.02872381,  0.13135329, -0.09071255,  0.16037709,  0.16271955,\n",
            "       -0.17188382,  0.06721143, -0.17067735,  0.03274924, -0.09745877,\n",
            "        0.01641579, -0.09072948, -0.15733744, -0.1375738 ], dtype=float32), 2: array([-0.01243238,  0.00682303,  0.14969034,  0.15484276, -0.11550696,\n",
            "       -0.18166354,  0.07662251,  0.25948623, -0.01700075, -0.01723257,\n",
            "        0.16929701,  0.05855341,  0.12308918,  0.10164295, -0.21960641,\n",
            "       -0.05321129, -0.07221956,  0.17156248, -0.08837786, -0.15880682,\n",
            "        0.19243173,  0.11699475,  0.29237092, -0.1692755 ,  0.1330271 ,\n",
            "        0.11535323, -0.0992342 ,  0.12639895, -0.07960892, -0.04339258,\n",
            "       -0.11200114,  0.00580992,  0.09607638, -0.16945916,  0.00419393,\n",
            "        0.00418866,  0.05295522,  0.01869249,  0.15980127, -0.17450534,\n",
            "       -0.10928401,  0.08797808, -0.2535669 , -0.13983417,  0.03473864,\n",
            "        0.05972965, -0.11665738,  0.0308234 , -0.07717752,  0.17540342,\n",
            "       -0.06782361,  0.13925485, -0.08370999,  0.1359335 ,  0.17651236,\n",
            "       -0.16407108,  0.05312655, -0.16197564,  0.00332749, -0.02959412,\n",
            "       -0.03085316, -0.10323235, -0.16996118, -0.17129345], dtype=float32), 3: array([-0.034635  ,  0.08228179,  0.20111279,  0.12500958, -0.13668756,\n",
            "       -0.18207307,  0.1449312 ,  0.26594973,  0.01995538, -0.02307336,\n",
            "        0.24941406,  0.11494335,  0.15840077,  0.02218341, -0.25007316,\n",
            "       -0.09086783, -0.05797875,  0.19087997, -0.00939638, -0.11687186,\n",
            "        0.13058035,  0.12028459,  0.3071341 , -0.20590866,  0.08996543,\n",
            "        0.11465759, -0.06002995,  0.18249464,  0.01833408,  0.01716228,\n",
            "       -0.05817378,  0.0988436 , -0.02333385, -0.14250292, -0.04978511,\n",
            "       -0.02183705,  0.0617203 ,  0.04815111,  0.19131358, -0.14739603,\n",
            "       -0.0036727 ,  0.10625025, -0.21964738, -0.15252784,  0.05524156,\n",
            "        0.05978747, -0.11757793, -0.03818448, -0.11287864,  0.16447772,\n",
            "       -0.01647274,  0.1074829 , -0.12155001,  0.15772627,  0.17164749,\n",
            "       -0.18046407,  0.07906539, -0.17255504,  0.02791589, -0.11128987,\n",
            "        0.03620148, -0.08503027, -0.13459949, -0.12956901], dtype=float32), 4: array([-0.00476671, -0.01606498,  0.13648103,  0.14715014, -0.09027644,\n",
            "       -0.18077302,  0.04106069,  0.2516434 , -0.01170128,  0.00177767,\n",
            "        0.13886617,  0.05414226,  0.13652818,  0.11456387, -0.2183438 ,\n",
            "       -0.03618902, -0.0932181 ,  0.1804199 , -0.09747831, -0.1631076 ,\n",
            "        0.21209507,  0.11145049,  0.29495695, -0.177291  ,  0.1419372 ,\n",
            "        0.13481794, -0.11973804,  0.10635482, -0.09401233, -0.05249589,\n",
            "       -0.12255818, -0.02024513,  0.1159584 , -0.1671733 ,  0.02664386,\n",
            "        0.01337403,  0.03745155,  0.02931849,  0.16673064, -0.19301175,\n",
            "       -0.12713969,  0.08233617, -0.26707602, -0.14420575,  0.03570258,\n",
            "        0.07309981, -0.10555574,  0.02919223, -0.08873872,  0.16453192,\n",
            "       -0.06666704,  0.1451829 , -0.07538316,  0.13817972,  0.17514783,\n",
            "       -0.16496049,  0.03578541, -0.15345429,  0.00181114, -0.03334894,\n",
            "       -0.05380926, -0.12470312, -0.1837486 , -0.1828192 ], dtype=float32)}\n"
          ]
        }
      ]
    },
    {
      "cell_type": "markdown",
      "source": [
        "Step 2: Prepare Attribute Vectors\n",
        "\n",
        "We have time-series for each node is associated with a vector of attributes."
      ],
      "metadata": {
        "id": "yDHm8qQp8h9C"
      }
    },
    {
      "cell_type": "code",
      "source": [
        "attribute_vectors = {\n",
        "    1: [0.1, 0.2, 0.3],\n",
        "    2: [0.4, 0.5, 0.6],\n",
        "    3: [0.7, 0.8, 0.9],\n",
        "    4: [1.0, 1.1, 1.2]\n",
        "}\n",
        "\n",
        "import numpy as np\n",
        "\n",
        "combined_embeddings = {}\n",
        "for node in G.nodes():\n",
        "    structural_embedding = structural_embeddings[node]\n",
        "    attribute_vector = attribute_vectors[node]\n",
        "    combined_embedding = np.concatenate((structural_embedding, attribute_vector))\n",
        "    combined_embeddings[node] = combined_embedding\n",
        "\n",
        "# Example output for node 1\n",
        "print(combined_embeddings[1])"
      ],
      "metadata": {
        "colab": {
          "base_uri": "https://localhost:8080/"
        },
        "id": "sRQ2Ywok8iJh",
        "outputId": "caa2d12a-6d08-4be9-e168-9b9b4ff582e8"
      },
      "execution_count": 12,
      "outputs": [
        {
          "output_type": "stream",
          "name": "stdout",
          "text": [
            "[-0.02631349  0.05089882  0.17280838  0.14105776 -0.12393833 -0.17387788\n",
            "  0.11665705  0.27069539  0.00486176 -0.03152571  0.21411921  0.0916369\n",
            "  0.15909027  0.05304003 -0.23802675 -0.08597304 -0.06934562  0.18728486\n",
            " -0.03112677 -0.11849643  0.14588998  0.11832988  0.30683884 -0.19891143\n",
            "  0.10072954  0.12988633 -0.07587767  0.15272784 -0.01583031 -0.00756422\n",
            " -0.06256703  0.06438688  0.01060378 -0.16112167 -0.02108328  0.00207937\n",
            "  0.03760183  0.04577088  0.18683806 -0.14921485 -0.03411896  0.08479237\n",
            " -0.22927839 -0.13514379  0.04177726  0.05127777 -0.11240242 -0.02732335\n",
            " -0.11053132  0.17460172 -0.02872381  0.13135329 -0.09071255  0.16037709\n",
            "  0.16271955 -0.17188382  0.06721143 -0.17067735  0.03274924 -0.09745877\n",
            "  0.01641579 -0.09072948 -0.15733744 -0.13757379  0.1         0.2\n",
            "  0.3       ]\n"
          ]
        }
      ]
    },
    {
      "cell_type": "markdown",
      "source": [
        "# GCN realisation\n",
        "\n"
      ],
      "metadata": {
        "id": "ZSHMHKDZ82k9"
      }
    },
    {
      "cell_type": "code",
      "source": [
        "!pip install torch_geometric"
      ],
      "metadata": {
        "colab": {
          "base_uri": "https://localhost:8080/"
        },
        "id": "3c-sex3Q8_xG",
        "outputId": "59beff29-6d1a-4e77-87cc-e3f91fc2f812"
      },
      "execution_count": 2,
      "outputs": [
        {
          "output_type": "stream",
          "name": "stdout",
          "text": [
            "Collecting torch_geometric\n",
            "  Downloading torch_geometric-2.6.1-py3-none-any.whl.metadata (63 kB)\n",
            "\u001b[?25l     \u001b[90m━━━━━━━━━━━━━━━━━━━━━━━━━━━━━━━━━━━━━━━━\u001b[0m \u001b[32m0.0/63.1 kB\u001b[0m \u001b[31m?\u001b[0m eta \u001b[36m-:--:--\u001b[0m\r\u001b[2K     \u001b[90m━━━━━━━━━━━━━━━━━━━━━━━━━━━━━━━━━━━━━━━━\u001b[0m \u001b[32m63.1/63.1 kB\u001b[0m \u001b[31m1.6 MB/s\u001b[0m eta \u001b[36m0:00:00\u001b[0m\n",
            "\u001b[?25hRequirement already satisfied: aiohttp in /usr/local/lib/python3.11/dist-packages (from torch_geometric) (3.11.11)\n",
            "Requirement already satisfied: fsspec in /usr/local/lib/python3.11/dist-packages (from torch_geometric) (2024.10.0)\n",
            "Requirement already satisfied: jinja2 in /usr/local/lib/python3.11/dist-packages (from torch_geometric) (3.1.5)\n",
            "Requirement already satisfied: numpy in /usr/local/lib/python3.11/dist-packages (from torch_geometric) (1.26.4)\n",
            "Requirement already satisfied: psutil>=5.8.0 in /usr/local/lib/python3.11/dist-packages (from torch_geometric) (5.9.5)\n",
            "Requirement already satisfied: pyparsing in /usr/local/lib/python3.11/dist-packages (from torch_geometric) (3.2.1)\n",
            "Requirement already satisfied: requests in /usr/local/lib/python3.11/dist-packages (from torch_geometric) (2.32.3)\n",
            "Requirement already satisfied: tqdm in /usr/local/lib/python3.11/dist-packages (from torch_geometric) (4.67.1)\n",
            "Requirement already satisfied: aiohappyeyeballs>=2.3.0 in /usr/local/lib/python3.11/dist-packages (from aiohttp->torch_geometric) (2.4.4)\n",
            "Requirement already satisfied: aiosignal>=1.1.2 in /usr/local/lib/python3.11/dist-packages (from aiohttp->torch_geometric) (1.3.2)\n",
            "Requirement already satisfied: attrs>=17.3.0 in /usr/local/lib/python3.11/dist-packages (from aiohttp->torch_geometric) (24.3.0)\n",
            "Requirement already satisfied: frozenlist>=1.1.1 in /usr/local/lib/python3.11/dist-packages (from aiohttp->torch_geometric) (1.5.0)\n",
            "Requirement already satisfied: multidict<7.0,>=4.5 in /usr/local/lib/python3.11/dist-packages (from aiohttp->torch_geometric) (6.1.0)\n",
            "Requirement already satisfied: propcache>=0.2.0 in /usr/local/lib/python3.11/dist-packages (from aiohttp->torch_geometric) (0.2.1)\n",
            "Requirement already satisfied: yarl<2.0,>=1.17.0 in /usr/local/lib/python3.11/dist-packages (from aiohttp->torch_geometric) (1.18.3)\n",
            "Requirement already satisfied: MarkupSafe>=2.0 in /usr/local/lib/python3.11/dist-packages (from jinja2->torch_geometric) (3.0.2)\n",
            "Requirement already satisfied: charset-normalizer<4,>=2 in /usr/local/lib/python3.11/dist-packages (from requests->torch_geometric) (3.4.1)\n",
            "Requirement already satisfied: idna<4,>=2.5 in /usr/local/lib/python3.11/dist-packages (from requests->torch_geometric) (3.10)\n",
            "Requirement already satisfied: urllib3<3,>=1.21.1 in /usr/local/lib/python3.11/dist-packages (from requests->torch_geometric) (2.3.0)\n",
            "Requirement already satisfied: certifi>=2017.4.17 in /usr/local/lib/python3.11/dist-packages (from requests->torch_geometric) (2024.12.14)\n",
            "Downloading torch_geometric-2.6.1-py3-none-any.whl (1.1 MB)\n",
            "\u001b[2K   \u001b[90m━━━━━━━━━━━━━━━━━━━━━━━━━━━━━━━━━━━━━━━━\u001b[0m \u001b[32m1.1/1.1 MB\u001b[0m \u001b[31m18.1 MB/s\u001b[0m eta \u001b[36m0:00:00\u001b[0m\n",
            "\u001b[?25hInstalling collected packages: torch_geometric\n",
            "Successfully installed torch_geometric-2.6.1\n"
          ]
        }
      ]
    },
    {
      "cell_type": "code",
      "source": [
        "# load some graph or create a graph\n",
        "import networkx as nx\n",
        "G = nx.Graph()\n",
        "G.add_edges_from([(1, 2), (2, 3), (3, 4), (4, 1)])"
      ],
      "metadata": {
        "id": "D5I7wsz69KMZ"
      },
      "execution_count": 5,
      "outputs": []
    },
    {
      "cell_type": "code",
      "source": [
        "import torch\n",
        "from torch_geometric.data import Data\n",
        "from torch_geometric.nn import GCNConv\n",
        "\n",
        "# Node features (4 nodes, each with 2 features, they can be anything, degrees or even other properties )\n",
        "x = torch.tensor([[0.1, 0.2], [0.3, 0.4], [0.5, 0.6], [0.7, 0.8]], dtype=torch.float)\n",
        "\n",
        "# Edge indices (connections between nodes)\n",
        "edge_index = torch.tensor([[0, 1, 1, 2, 2, 3],  # Source nodes\n",
        "                           [1, 0, 2, 1, 3, 2]], dtype=torch.long)  # Target nodes\n",
        "\n",
        "# Create a PyTorch Geometric data object\n",
        "data = Data(x=x, edge_index=edge_index)\n",
        "\n",
        "# Define the GCN model\n",
        "class GCN(torch.nn.Module):\n",
        "    def __init__(self):\n",
        "        super(GCN, self).__init__()\n",
        "        self.conv1 = GCNConv(data.num_features, 16)\n",
        "        self.conv2 = GCNConv(16, 64)\n",
        "\n",
        "    def forward(self, x, edge_index):\n",
        "        x = self.conv1(x, edge_index)\n",
        "        x = torch.relu(x)\n",
        "        x = self.conv2(x, edge_index)\n",
        "        return x\n",
        "\n",
        "# Instantiate the model\n",
        "model = GCN()\n",
        "\n",
        "# Generate embeddings\n",
        "embeddings = model(data.x, data.edge_index)\n",
        "print(\"Node embeddings:\", embeddings)"
      ],
      "metadata": {
        "colab": {
          "base_uri": "https://localhost:8080/"
        },
        "id": "sVtSOKOv87RN",
        "outputId": "3a768bc6-3fc7-4d32-ab82-fa38c1a61ae9"
      },
      "execution_count": 17,
      "outputs": [
        {
          "output_type": "stream",
          "name": "stdout",
          "text": [
            "Node embeddings: tensor([[ 1.6693e-02, -3.2546e-02,  1.4114e-02, -3.3845e-02,  5.0788e-03,\n",
            "         -4.0756e-02,  4.3694e-02, -1.8000e-02, -1.6657e-02,  7.9980e-04,\n",
            "         -1.0239e-02, -5.5602e-03,  1.5350e-02,  3.6906e-02, -7.0971e-02,\n",
            "          4.5729e-02,  4.0141e-02, -1.4429e-02, -1.1805e-02,  2.3613e-02,\n",
            "         -2.0569e-02,  1.3397e-02, -2.6575e-02, -6.3894e-03,  2.3917e-02,\n",
            "         -4.6345e-02,  1.0203e-02, -1.6867e-03, -4.2605e-02, -7.6576e-03,\n",
            "         -2.8930e-02,  6.3790e-03,  1.2553e-02,  1.2120e-02,  8.0710e-03,\n",
            "         -2.3439e-02, -2.4702e-03, -1.2501e-02,  2.6824e-03,  8.0765e-03,\n",
            "          1.2334e-02, -5.0202e-02, -8.3622e-03,  2.4013e-02,  1.6856e-02,\n",
            "          1.1289e-03, -1.8522e-02, -1.3105e-02, -2.4180e-03,  1.5451e-02,\n",
            "         -5.7389e-03, -1.3324e-02, -6.9575e-03, -1.7982e-03,  1.2721e-02,\n",
            "         -1.8096e-02, -2.3011e-03,  3.2086e-03,  1.9126e-02,  2.9487e-02,\n",
            "         -4.4912e-04, -1.7479e-02,  2.9978e-02,  1.8737e-02],\n",
            "        [ 2.3554e-02, -5.2153e-02,  2.5417e-02, -5.6523e-02,  2.6850e-03,\n",
            "         -7.1290e-02,  6.7812e-02, -3.0152e-02, -2.5994e-02,  2.3859e-03,\n",
            "         -1.7087e-02, -1.0740e-02,  2.7987e-02,  6.0366e-02, -1.1315e-01,\n",
            "          7.2350e-02,  7.1524e-02, -1.9929e-02, -1.9933e-02,  3.8404e-02,\n",
            "         -3.5053e-02,  1.9846e-02, -3.7567e-02, -1.0499e-02,  4.0203e-02,\n",
            "         -7.6407e-02,  2.2009e-02, -1.2632e-03, -6.5358e-02, -1.6942e-02,\n",
            "         -4.4614e-02,  9.3977e-03,  2.4428e-02,  2.2063e-02,  1.1340e-02,\n",
            "         -4.0504e-02, -7.8305e-03, -2.1281e-02,  8.8554e-03,  1.6703e-02,\n",
            "          2.3713e-02, -8.0137e-02, -1.2479e-02,  3.5998e-02,  2.6923e-02,\n",
            "          4.1590e-03, -2.6291e-02, -1.7219e-02, -2.2292e-03,  2.1725e-02,\n",
            "         -1.3965e-02, -2.3673e-02, -1.1980e-02,  2.2364e-03,  2.6150e-02,\n",
            "         -3.1691e-02, -5.4930e-03,  9.2661e-03,  2.9973e-02,  4.6684e-02,\n",
            "         -9.9091e-04, -3.2983e-02,  4.9373e-02,  3.2289e-02],\n",
            "        [ 2.8623e-02, -7.1821e-02,  3.8348e-02, -8.0575e-02, -2.8132e-03,\n",
            "         -1.0532e-01,  9.0755e-02, -4.3086e-02, -3.4965e-02,  4.6042e-03,\n",
            "         -2.4342e-02, -1.6974e-02,  4.2589e-02,  8.4598e-02, -1.5514e-01,\n",
            "          9.8529e-02,  1.0710e-01, -2.3633e-02, -2.8666e-02,  5.3563e-02,\n",
            "         -5.0772e-02,  2.5395e-02, -4.5745e-02, -1.4770e-02,  5.7606e-02,\n",
            "         -1.0778e-01,  3.7068e-02, -2.0834e-05, -8.6529e-02, -2.8908e-02,\n",
            "         -5.9358e-02,  1.1958e-02,  3.8791e-02,  3.3539e-02,  1.3715e-02,\n",
            "         -5.9295e-02, -1.5407e-02, -3.0798e-02,  1.7636e-02,  2.7493e-02,\n",
            "          3.7370e-02, -1.0999e-01, -1.6086e-02,  4.6612e-02,  3.6972e-02,\n",
            "          8.5333e-03, -3.2161e-02, -1.9199e-02, -1.1053e-03,  2.6296e-02,\n",
            "         -2.4925e-02, -3.5373e-02, -1.7491e-02,  9.1903e-03,  4.2897e-02,\n",
            "         -4.6860e-02, -9.7205e-03,  1.7685e-02,  4.0471e-02,  6.3614e-02,\n",
            "         -1.6885e-03, -5.1361e-02,  6.9589e-02,  4.7170e-02],\n",
            "        [ 2.6154e-02, -6.9259e-02,  3.8249e-02, -7.8738e-02, -5.1841e-03,\n",
            "         -1.0427e-01,  8.6519e-02, -4.2141e-02, -3.3402e-02,  4.9404e-03,\n",
            "         -2.3781e-02, -1.7198e-02,  4.2606e-02,  8.2136e-02, -1.4935e-01,\n",
            "          9.4594e-02,  1.0654e-01, -2.1344e-02, -2.8104e-02,  5.1909e-02,\n",
            "         -4.9909e-02,  2.3754e-02, -4.1839e-02, -1.4361e-02,  5.6402e-02,\n",
            "         -1.0491e-01,  3.8311e-02,  6.3228e-04, -8.2123e-02, -2.9993e-02,\n",
            "         -5.6450e-02,  1.1158e-02,  3.9362e-02,  3.3540e-02,  1.2504e-02,\n",
            "         -5.8514e-02, -1.6612e-02, -3.0266e-02,  1.9072e-02,  2.8217e-02,\n",
            "          3.7827e-02, -1.0593e-01, -1.5095e-02,  4.3825e-02,  3.5613e-02,\n",
            "          9.2938e-03, -2.9478e-02, -1.6801e-02, -3.2028e-04,  2.3982e-02,\n",
            "         -2.6196e-02, -3.5163e-02, -1.7244e-02,  1.1182e-02,  4.3980e-02,\n",
            "         -4.6409e-02, -1.0192e-02,  1.8923e-02,  3.8722e-02,  6.1088e-02,\n",
            "         -1.7511e-03, -5.1783e-02,  6.7713e-02,  4.6513e-02]],\n",
            "       grad_fn=<AddBackward0>)\n"
          ]
        }
      ]
    },
    {
      "cell_type": "code",
      "source": [
        "num_nodes = data.x.shape[0]  # Number of nodes in the graph\n",
        "max_index = edge_index.max().item()  # Maximum node index in edge_index\n",
        "\n",
        "if max_index >= num_nodes:\n",
        "    raise ValueError(f\"edge_index contains node index {max_index}, but there are only {num_nodes} nodes.\")"
      ],
      "metadata": {
        "colab": {
          "base_uri": "https://localhost:8080/",
          "height": 184
        },
        "id": "4cnTleAF-Pdz",
        "outputId": "36d17f9a-0717-4c8d-9139-b86ad69fb2a6"
      },
      "execution_count": 15,
      "outputs": [
        {
          "output_type": "error",
          "ename": "ValueError",
          "evalue": "edge_index contains node index 4, but there are only 4 nodes.",
          "traceback": [
            "\u001b[0;31m---------------------------------------------------------------------------\u001b[0m",
            "\u001b[0;31mValueError\u001b[0m                                Traceback (most recent call last)",
            "\u001b[0;32m<ipython-input-15-bb7ff8c8d8f6>\u001b[0m in \u001b[0;36m<cell line: 0>\u001b[0;34m()\u001b[0m\n\u001b[1;32m      3\u001b[0m \u001b[0;34m\u001b[0m\u001b[0m\n\u001b[1;32m      4\u001b[0m \u001b[0;32mif\u001b[0m \u001b[0mmax_index\u001b[0m \u001b[0;34m>=\u001b[0m \u001b[0mnum_nodes\u001b[0m\u001b[0;34m:\u001b[0m\u001b[0;34m\u001b[0m\u001b[0;34m\u001b[0m\u001b[0m\n\u001b[0;32m----> 5\u001b[0;31m     \u001b[0;32mraise\u001b[0m \u001b[0mValueError\u001b[0m\u001b[0;34m(\u001b[0m\u001b[0;34mf\"edge_index contains node index {max_index}, but there are only {num_nodes} nodes.\"\u001b[0m\u001b[0;34m)\u001b[0m\u001b[0;34m\u001b[0m\u001b[0;34m\u001b[0m\u001b[0m\n\u001b[0m",
            "\u001b[0;31mValueError\u001b[0m: edge_index contains node index 4, but there are only 4 nodes."
          ]
        }
      ]
    },
    {
      "cell_type": "code",
      "source": [
        "print"
      ],
      "metadata": {
        "id": "XtjewEUp84DF"
      },
      "execution_count": null,
      "outputs": []
    }
  ]
}