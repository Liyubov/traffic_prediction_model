{
 "cells": [
  {
   "cell_type": "markdown",
   "metadata": {},
   "source": [
    "## Подготовка данных"
   ]
  },
  {
   "cell_type": "markdown",
   "metadata": {},
   "source": [
    "### Импорт библиотек"
   ]
  },
  {
   "cell_type": "code",
   "execution_count": 1,
   "metadata": {},
   "outputs": [],
   "source": [
    "import os\n",
    "import sys\n",
    "from pathlib import Path\n",
    "\n",
    "# Добавляем путь на уровень выше\n",
    "sys.path.append(str(Path(os.getcwd()).resolve().parent))\n",
    "\n",
    "from utils.features import *\n",
    "from utils.load_data import load_all_data\n",
    "from utils.feature_engineering import add_features\n",
    "from utils.graph_features import GraphClusterProcessor\n",
    "from models.dfdgcn import DFDGCN\n",
    "\n",
    "import torch\n",
    "import torch.nn as nn\n",
    "import torch.optim as optim\n",
    "import torch.nn.functional as F\n",
    "from torch.utils.data import DataLoader, Dataset\n",
    "from torch.utils.tensorboard import SummaryWriter\n",
    "\n",
    "import numpy as np\n",
    "import networkx as nx\n",
    "from node2vec import Node2Vec\n",
    "\n",
    "import time\n",
    "from tqdm import tqdm\n",
    "from sklearn.cluster import KMeans"
   ]
  },
  {
   "cell_type": "markdown",
   "metadata": {},
   "source": [
    "### Загрузка данных"
   ]
  },
  {
   "cell_type": "code",
   "execution_count": 2,
   "metadata": {},
   "outputs": [],
   "source": [
    "data_dir = Path('../data/PEMS-BAY')\n",
    "metadata, data, adj = load_all_data(data_dir)\n",
    "data = data[:2016]\n",
    "data = data.copy()\n",
    "\n",
    "data[:, :, 1] = data[:, :, 1] * 288\n",
    "data[:, :, 2] = data[:, :, 2] * 7"
   ]
  },
  {
   "cell_type": "markdown",
   "metadata": {},
   "source": [
    "### GraphClusterProcessor\n"
   ]
  },
  {
   "cell_type": "code",
   "execution_count": 3,
   "metadata": {},
   "outputs": [
    {
     "data": {
      "application/vnd.plotly.v1+json": {
       "config": {
        "plotlyServerURL": "https://plot.ly"
       },
       "data": [
        {
         "mode": "lines+markers",
         "name": "Distortion",
         "type": "scatter",
         "x": [
          1,
          2,
          3,
          4,
          5,
          6,
          7,
          8,
          9,
          10,
          11,
          12,
          13,
          14,
          15
         ],
         "y": [
          0.00019607120725087952,
          0.00008185911491953673,
          0.00004220051958079824,
          0.000023595279870372317,
          0.000017792357612322667,
          0.000010491891480388479,
          0.000008499178992826274,
          0.0000064405237146572135,
          0.000005530289013840543,
          0.000003604785759407242,
          0.0000032596396886537774,
          0.0000027628510642242962,
          0.0000023179360157916444,
          0.0000017400230073346284,
          0.00000142028971407101
         ]
        }
       ],
       "layout": {
        "template": {
         "data": {
          "bar": [
           {
            "error_x": {
             "color": "#2a3f5f"
            },
            "error_y": {
             "color": "#2a3f5f"
            },
            "marker": {
             "line": {
              "color": "white",
              "width": 0.5
             },
             "pattern": {
              "fillmode": "overlay",
              "size": 10,
              "solidity": 0.2
             }
            },
            "type": "bar"
           }
          ],
          "barpolar": [
           {
            "marker": {
             "line": {
              "color": "white",
              "width": 0.5
             },
             "pattern": {
              "fillmode": "overlay",
              "size": 10,
              "solidity": 0.2
             }
            },
            "type": "barpolar"
           }
          ],
          "carpet": [
           {
            "aaxis": {
             "endlinecolor": "#2a3f5f",
             "gridcolor": "#C8D4E3",
             "linecolor": "#C8D4E3",
             "minorgridcolor": "#C8D4E3",
             "startlinecolor": "#2a3f5f"
            },
            "baxis": {
             "endlinecolor": "#2a3f5f",
             "gridcolor": "#C8D4E3",
             "linecolor": "#C8D4E3",
             "minorgridcolor": "#C8D4E3",
             "startlinecolor": "#2a3f5f"
            },
            "type": "carpet"
           }
          ],
          "choropleth": [
           {
            "colorbar": {
             "outlinewidth": 0,
             "ticks": ""
            },
            "type": "choropleth"
           }
          ],
          "contour": [
           {
            "colorbar": {
             "outlinewidth": 0,
             "ticks": ""
            },
            "colorscale": [
             [
              0,
              "#0d0887"
             ],
             [
              0.1111111111111111,
              "#46039f"
             ],
             [
              0.2222222222222222,
              "#7201a8"
             ],
             [
              0.3333333333333333,
              "#9c179e"
             ],
             [
              0.4444444444444444,
              "#bd3786"
             ],
             [
              0.5555555555555556,
              "#d8576b"
             ],
             [
              0.6666666666666666,
              "#ed7953"
             ],
             [
              0.7777777777777778,
              "#fb9f3a"
             ],
             [
              0.8888888888888888,
              "#fdca26"
             ],
             [
              1,
              "#f0f921"
             ]
            ],
            "type": "contour"
           }
          ],
          "contourcarpet": [
           {
            "colorbar": {
             "outlinewidth": 0,
             "ticks": ""
            },
            "type": "contourcarpet"
           }
          ],
          "heatmap": [
           {
            "colorbar": {
             "outlinewidth": 0,
             "ticks": ""
            },
            "colorscale": [
             [
              0,
              "#0d0887"
             ],
             [
              0.1111111111111111,
              "#46039f"
             ],
             [
              0.2222222222222222,
              "#7201a8"
             ],
             [
              0.3333333333333333,
              "#9c179e"
             ],
             [
              0.4444444444444444,
              "#bd3786"
             ],
             [
              0.5555555555555556,
              "#d8576b"
             ],
             [
              0.6666666666666666,
              "#ed7953"
             ],
             [
              0.7777777777777778,
              "#fb9f3a"
             ],
             [
              0.8888888888888888,
              "#fdca26"
             ],
             [
              1,
              "#f0f921"
             ]
            ],
            "type": "heatmap"
           }
          ],
          "histogram": [
           {
            "marker": {
             "pattern": {
              "fillmode": "overlay",
              "size": 10,
              "solidity": 0.2
             }
            },
            "type": "histogram"
           }
          ],
          "histogram2d": [
           {
            "colorbar": {
             "outlinewidth": 0,
             "ticks": ""
            },
            "colorscale": [
             [
              0,
              "#0d0887"
             ],
             [
              0.1111111111111111,
              "#46039f"
             ],
             [
              0.2222222222222222,
              "#7201a8"
             ],
             [
              0.3333333333333333,
              "#9c179e"
             ],
             [
              0.4444444444444444,
              "#bd3786"
             ],
             [
              0.5555555555555556,
              "#d8576b"
             ],
             [
              0.6666666666666666,
              "#ed7953"
             ],
             [
              0.7777777777777778,
              "#fb9f3a"
             ],
             [
              0.8888888888888888,
              "#fdca26"
             ],
             [
              1,
              "#f0f921"
             ]
            ],
            "type": "histogram2d"
           }
          ],
          "histogram2dcontour": [
           {
            "colorbar": {
             "outlinewidth": 0,
             "ticks": ""
            },
            "colorscale": [
             [
              0,
              "#0d0887"
             ],
             [
              0.1111111111111111,
              "#46039f"
             ],
             [
              0.2222222222222222,
              "#7201a8"
             ],
             [
              0.3333333333333333,
              "#9c179e"
             ],
             [
              0.4444444444444444,
              "#bd3786"
             ],
             [
              0.5555555555555556,
              "#d8576b"
             ],
             [
              0.6666666666666666,
              "#ed7953"
             ],
             [
              0.7777777777777778,
              "#fb9f3a"
             ],
             [
              0.8888888888888888,
              "#fdca26"
             ],
             [
              1,
              "#f0f921"
             ]
            ],
            "type": "histogram2dcontour"
           }
          ],
          "mesh3d": [
           {
            "colorbar": {
             "outlinewidth": 0,
             "ticks": ""
            },
            "type": "mesh3d"
           }
          ],
          "parcoords": [
           {
            "line": {
             "colorbar": {
              "outlinewidth": 0,
              "ticks": ""
             }
            },
            "type": "parcoords"
           }
          ],
          "pie": [
           {
            "automargin": true,
            "type": "pie"
           }
          ],
          "scatter": [
           {
            "fillpattern": {
             "fillmode": "overlay",
             "size": 10,
             "solidity": 0.2
            },
            "type": "scatter"
           }
          ],
          "scatter3d": [
           {
            "line": {
             "colorbar": {
              "outlinewidth": 0,
              "ticks": ""
             }
            },
            "marker": {
             "colorbar": {
              "outlinewidth": 0,
              "ticks": ""
             }
            },
            "type": "scatter3d"
           }
          ],
          "scattercarpet": [
           {
            "marker": {
             "colorbar": {
              "outlinewidth": 0,
              "ticks": ""
             }
            },
            "type": "scattercarpet"
           }
          ],
          "scattergeo": [
           {
            "marker": {
             "colorbar": {
              "outlinewidth": 0,
              "ticks": ""
             }
            },
            "type": "scattergeo"
           }
          ],
          "scattergl": [
           {
            "marker": {
             "colorbar": {
              "outlinewidth": 0,
              "ticks": ""
             }
            },
            "type": "scattergl"
           }
          ],
          "scattermap": [
           {
            "marker": {
             "colorbar": {
              "outlinewidth": 0,
              "ticks": ""
             }
            },
            "type": "scattermap"
           }
          ],
          "scattermapbox": [
           {
            "marker": {
             "colorbar": {
              "outlinewidth": 0,
              "ticks": ""
             }
            },
            "type": "scattermapbox"
           }
          ],
          "scatterpolar": [
           {
            "marker": {
             "colorbar": {
              "outlinewidth": 0,
              "ticks": ""
             }
            },
            "type": "scatterpolar"
           }
          ],
          "scatterpolargl": [
           {
            "marker": {
             "colorbar": {
              "outlinewidth": 0,
              "ticks": ""
             }
            },
            "type": "scatterpolargl"
           }
          ],
          "scatterternary": [
           {
            "marker": {
             "colorbar": {
              "outlinewidth": 0,
              "ticks": ""
             }
            },
            "type": "scatterternary"
           }
          ],
          "surface": [
           {
            "colorbar": {
             "outlinewidth": 0,
             "ticks": ""
            },
            "colorscale": [
             [
              0,
              "#0d0887"
             ],
             [
              0.1111111111111111,
              "#46039f"
             ],
             [
              0.2222222222222222,
              "#7201a8"
             ],
             [
              0.3333333333333333,
              "#9c179e"
             ],
             [
              0.4444444444444444,
              "#bd3786"
             ],
             [
              0.5555555555555556,
              "#d8576b"
             ],
             [
              0.6666666666666666,
              "#ed7953"
             ],
             [
              0.7777777777777778,
              "#fb9f3a"
             ],
             [
              0.8888888888888888,
              "#fdca26"
             ],
             [
              1,
              "#f0f921"
             ]
            ],
            "type": "surface"
           }
          ],
          "table": [
           {
            "cells": {
             "fill": {
              "color": "#EBF0F8"
             },
             "line": {
              "color": "white"
             }
            },
            "header": {
             "fill": {
              "color": "#C8D4E3"
             },
             "line": {
              "color": "white"
             }
            },
            "type": "table"
           }
          ]
         },
         "layout": {
          "annotationdefaults": {
           "arrowcolor": "#2a3f5f",
           "arrowhead": 0,
           "arrowwidth": 1
          },
          "autotypenumbers": "strict",
          "coloraxis": {
           "colorbar": {
            "outlinewidth": 0,
            "ticks": ""
           }
          },
          "colorscale": {
           "diverging": [
            [
             0,
             "#8e0152"
            ],
            [
             0.1,
             "#c51b7d"
            ],
            [
             0.2,
             "#de77ae"
            ],
            [
             0.3,
             "#f1b6da"
            ],
            [
             0.4,
             "#fde0ef"
            ],
            [
             0.5,
             "#f7f7f7"
            ],
            [
             0.6,
             "#e6f5d0"
            ],
            [
             0.7,
             "#b8e186"
            ],
            [
             0.8,
             "#7fbc41"
            ],
            [
             0.9,
             "#4d9221"
            ],
            [
             1,
             "#276419"
            ]
           ],
           "sequential": [
            [
             0,
             "#0d0887"
            ],
            [
             0.1111111111111111,
             "#46039f"
            ],
            [
             0.2222222222222222,
             "#7201a8"
            ],
            [
             0.3333333333333333,
             "#9c179e"
            ],
            [
             0.4444444444444444,
             "#bd3786"
            ],
            [
             0.5555555555555556,
             "#d8576b"
            ],
            [
             0.6666666666666666,
             "#ed7953"
            ],
            [
             0.7777777777777778,
             "#fb9f3a"
            ],
            [
             0.8888888888888888,
             "#fdca26"
            ],
            [
             1,
             "#f0f921"
            ]
           ],
           "sequentialminus": [
            [
             0,
             "#0d0887"
            ],
            [
             0.1111111111111111,
             "#46039f"
            ],
            [
             0.2222222222222222,
             "#7201a8"
            ],
            [
             0.3333333333333333,
             "#9c179e"
            ],
            [
             0.4444444444444444,
             "#bd3786"
            ],
            [
             0.5555555555555556,
             "#d8576b"
            ],
            [
             0.6666666666666666,
             "#ed7953"
            ],
            [
             0.7777777777777778,
             "#fb9f3a"
            ],
            [
             0.8888888888888888,
             "#fdca26"
            ],
            [
             1,
             "#f0f921"
            ]
           ]
          },
          "colorway": [
           "#636efa",
           "#EF553B",
           "#00cc96",
           "#ab63fa",
           "#FFA15A",
           "#19d3f3",
           "#FF6692",
           "#B6E880",
           "#FF97FF",
           "#FECB52"
          ],
          "font": {
           "color": "#2a3f5f"
          },
          "geo": {
           "bgcolor": "white",
           "lakecolor": "white",
           "landcolor": "white",
           "showlakes": true,
           "showland": true,
           "subunitcolor": "#C8D4E3"
          },
          "hoverlabel": {
           "align": "left"
          },
          "hovermode": "closest",
          "mapbox": {
           "style": "light"
          },
          "paper_bgcolor": "white",
          "plot_bgcolor": "white",
          "polar": {
           "angularaxis": {
            "gridcolor": "#EBF0F8",
            "linecolor": "#EBF0F8",
            "ticks": ""
           },
           "bgcolor": "white",
           "radialaxis": {
            "gridcolor": "#EBF0F8",
            "linecolor": "#EBF0F8",
            "ticks": ""
           }
          },
          "scene": {
           "xaxis": {
            "backgroundcolor": "white",
            "gridcolor": "#DFE8F3",
            "gridwidth": 2,
            "linecolor": "#EBF0F8",
            "showbackground": true,
            "ticks": "",
            "zerolinecolor": "#EBF0F8"
           },
           "yaxis": {
            "backgroundcolor": "white",
            "gridcolor": "#DFE8F3",
            "gridwidth": 2,
            "linecolor": "#EBF0F8",
            "showbackground": true,
            "ticks": "",
            "zerolinecolor": "#EBF0F8"
           },
           "zaxis": {
            "backgroundcolor": "white",
            "gridcolor": "#DFE8F3",
            "gridwidth": 2,
            "linecolor": "#EBF0F8",
            "showbackground": true,
            "ticks": "",
            "zerolinecolor": "#EBF0F8"
           }
          },
          "shapedefaults": {
           "line": {
            "color": "#2a3f5f"
           }
          },
          "ternary": {
           "aaxis": {
            "gridcolor": "#DFE8F3",
            "linecolor": "#A2B1C6",
            "ticks": ""
           },
           "baxis": {
            "gridcolor": "#DFE8F3",
            "linecolor": "#A2B1C6",
            "ticks": ""
           },
           "bgcolor": "white",
           "caxis": {
            "gridcolor": "#DFE8F3",
            "linecolor": "#A2B1C6",
            "ticks": ""
           }
          },
          "title": {
           "x": 0.05
          },
          "xaxis": {
           "automargin": true,
           "gridcolor": "#EBF0F8",
           "linecolor": "#EBF0F8",
           "ticks": "",
           "title": {
            "standoff": 15
           },
           "zerolinecolor": "#EBF0F8",
           "zerolinewidth": 2
          },
          "yaxis": {
           "automargin": true,
           "gridcolor": "#EBF0F8",
           "linecolor": "#EBF0F8",
           "ticks": "",
           "title": {
            "standoff": 15
           },
           "zerolinecolor": "#EBF0F8",
           "zerolinewidth": 2
          }
         }
        },
        "title": {
         "text": "Метод локтя"
        },
        "xaxis": {
         "title": {
          "text": "Число кластеров"
         }
        },
        "yaxis": {
         "title": {
          "text": "Инерция (Distortion)"
         }
        }
       }
      }
     },
     "metadata": {},
     "output_type": "display_data"
    },
    {
     "data": {
      "application/vnd.plotly.v1+json": {
       "config": {
        "plotlyServerURL": "https://plot.ly"
       },
       "data": [
        {
         "mode": "lines",
         "name": "Группа 1",
         "type": "scatter",
         "x": {
          "bdata": "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",
          "dtype": "i4"
         },
         "y": {
          "bdata": "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",
          "dtype": "f8"
         }
        },
        {
         "mode": "lines",
         "name": "Группа 2",
         "type": "scatter",
         "x": {
          "bdata": "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",
          "dtype": "i4"
         },
         "y": {
          "bdata": "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",
          "dtype": "f8"
         }
        },
        {
         "mode": "lines",
         "name": "Группа 3",
         "type": "scatter",
         "x": {
          "bdata": "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",
          "dtype": "i4"
         },
         "y": {
          "bdata": "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",
          "dtype": "f8"
         }
        },
        {
         "mode": "lines",
         "name": "Группа 4",
         "type": "scatter",
         "x": {
          "bdata": "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",
          "dtype": "i4"
         },
         "y": {
          "bdata": "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",
          "dtype": "f8"
         }
        },
        {
         "mode": "lines",
         "name": "Группа 5",
         "type": "scatter",
         "x": {
          "bdata": "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",
          "dtype": "i4"
         },
         "y": {
          "bdata": "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",
          "dtype": "f8"
         }
        }
       ],
       "layout": {
        "legend": {
         "title": {
          "text": "Группы"
         }
        },
        "template": {
         "data": {
          "bar": [
           {
            "error_x": {
             "color": "#2a3f5f"
            },
            "error_y": {
             "color": "#2a3f5f"
            },
            "marker": {
             "line": {
              "color": "white",
              "width": 0.5
             },
             "pattern": {
              "fillmode": "overlay",
              "size": 10,
              "solidity": 0.2
             }
            },
            "type": "bar"
           }
          ],
          "barpolar": [
           {
            "marker": {
             "line": {
              "color": "white",
              "width": 0.5
             },
             "pattern": {
              "fillmode": "overlay",
              "size": 10,
              "solidity": 0.2
             }
            },
            "type": "barpolar"
           }
          ],
          "carpet": [
           {
            "aaxis": {
             "endlinecolor": "#2a3f5f",
             "gridcolor": "#C8D4E3",
             "linecolor": "#C8D4E3",
             "minorgridcolor": "#C8D4E3",
             "startlinecolor": "#2a3f5f"
            },
            "baxis": {
             "endlinecolor": "#2a3f5f",
             "gridcolor": "#C8D4E3",
             "linecolor": "#C8D4E3",
             "minorgridcolor": "#C8D4E3",
             "startlinecolor": "#2a3f5f"
            },
            "type": "carpet"
           }
          ],
          "choropleth": [
           {
            "colorbar": {
             "outlinewidth": 0,
             "ticks": ""
            },
            "type": "choropleth"
           }
          ],
          "contour": [
           {
            "colorbar": {
             "outlinewidth": 0,
             "ticks": ""
            },
            "colorscale": [
             [
              0,
              "#0d0887"
             ],
             [
              0.1111111111111111,
              "#46039f"
             ],
             [
              0.2222222222222222,
              "#7201a8"
             ],
             [
              0.3333333333333333,
              "#9c179e"
             ],
             [
              0.4444444444444444,
              "#bd3786"
             ],
             [
              0.5555555555555556,
              "#d8576b"
             ],
             [
              0.6666666666666666,
              "#ed7953"
             ],
             [
              0.7777777777777778,
              "#fb9f3a"
             ],
             [
              0.8888888888888888,
              "#fdca26"
             ],
             [
              1,
              "#f0f921"
             ]
            ],
            "type": "contour"
           }
          ],
          "contourcarpet": [
           {
            "colorbar": {
             "outlinewidth": 0,
             "ticks": ""
            },
            "type": "contourcarpet"
           }
          ],
          "heatmap": [
           {
            "colorbar": {
             "outlinewidth": 0,
             "ticks": ""
            },
            "colorscale": [
             [
              0,
              "#0d0887"
             ],
             [
              0.1111111111111111,
              "#46039f"
             ],
             [
              0.2222222222222222,
              "#7201a8"
             ],
             [
              0.3333333333333333,
              "#9c179e"
             ],
             [
              0.4444444444444444,
              "#bd3786"
             ],
             [
              0.5555555555555556,
              "#d8576b"
             ],
             [
              0.6666666666666666,
              "#ed7953"
             ],
             [
              0.7777777777777778,
              "#fb9f3a"
             ],
             [
              0.8888888888888888,
              "#fdca26"
             ],
             [
              1,
              "#f0f921"
             ]
            ],
            "type": "heatmap"
           }
          ],
          "histogram": [
           {
            "marker": {
             "pattern": {
              "fillmode": "overlay",
              "size": 10,
              "solidity": 0.2
             }
            },
            "type": "histogram"
           }
          ],
          "histogram2d": [
           {
            "colorbar": {
             "outlinewidth": 0,
             "ticks": ""
            },
            "colorscale": [
             [
              0,
              "#0d0887"
             ],
             [
              0.1111111111111111,
              "#46039f"
             ],
             [
              0.2222222222222222,
              "#7201a8"
             ],
             [
              0.3333333333333333,
              "#9c179e"
             ],
             [
              0.4444444444444444,
              "#bd3786"
             ],
             [
              0.5555555555555556,
              "#d8576b"
             ],
             [
              0.6666666666666666,
              "#ed7953"
             ],
             [
              0.7777777777777778,
              "#fb9f3a"
             ],
             [
              0.8888888888888888,
              "#fdca26"
             ],
             [
              1,
              "#f0f921"
             ]
            ],
            "type": "histogram2d"
           }
          ],
          "histogram2dcontour": [
           {
            "colorbar": {
             "outlinewidth": 0,
             "ticks": ""
            },
            "colorscale": [
             [
              0,
              "#0d0887"
             ],
             [
              0.1111111111111111,
              "#46039f"
             ],
             [
              0.2222222222222222,
              "#7201a8"
             ],
             [
              0.3333333333333333,
              "#9c179e"
             ],
             [
              0.4444444444444444,
              "#bd3786"
             ],
             [
              0.5555555555555556,
              "#d8576b"
             ],
             [
              0.6666666666666666,
              "#ed7953"
             ],
             [
              0.7777777777777778,
              "#fb9f3a"
             ],
             [
              0.8888888888888888,
              "#fdca26"
             ],
             [
              1,
              "#f0f921"
             ]
            ],
            "type": "histogram2dcontour"
           }
          ],
          "mesh3d": [
           {
            "colorbar": {
             "outlinewidth": 0,
             "ticks": ""
            },
            "type": "mesh3d"
           }
          ],
          "parcoords": [
           {
            "line": {
             "colorbar": {
              "outlinewidth": 0,
              "ticks": ""
             }
            },
            "type": "parcoords"
           }
          ],
          "pie": [
           {
            "automargin": true,
            "type": "pie"
           }
          ],
          "scatter": [
           {
            "fillpattern": {
             "fillmode": "overlay",
             "size": 10,
             "solidity": 0.2
            },
            "type": "scatter"
           }
          ],
          "scatter3d": [
           {
            "line": {
             "colorbar": {
              "outlinewidth": 0,
              "ticks": ""
             }
            },
            "marker": {
             "colorbar": {
              "outlinewidth": 0,
              "ticks": ""
             }
            },
            "type": "scatter3d"
           }
          ],
          "scattercarpet": [
           {
            "marker": {
             "colorbar": {
              "outlinewidth": 0,
              "ticks": ""
             }
            },
            "type": "scattercarpet"
           }
          ],
          "scattergeo": [
           {
            "marker": {
             "colorbar": {
              "outlinewidth": 0,
              "ticks": ""
             }
            },
            "type": "scattergeo"
           }
          ],
          "scattergl": [
           {
            "marker": {
             "colorbar": {
              "outlinewidth": 0,
              "ticks": ""
             }
            },
            "type": "scattergl"
           }
          ],
          "scattermap": [
           {
            "marker": {
             "colorbar": {
              "outlinewidth": 0,
              "ticks": ""
             }
            },
            "type": "scattermap"
           }
          ],
          "scattermapbox": [
           {
            "marker": {
             "colorbar": {
              "outlinewidth": 0,
              "ticks": ""
             }
            },
            "type": "scattermapbox"
           }
          ],
          "scatterpolar": [
           {
            "marker": {
             "colorbar": {
              "outlinewidth": 0,
              "ticks": ""
             }
            },
            "type": "scatterpolar"
           }
          ],
          "scatterpolargl": [
           {
            "marker": {
             "colorbar": {
              "outlinewidth": 0,
              "ticks": ""
             }
            },
            "type": "scatterpolargl"
           }
          ],
          "scatterternary": [
           {
            "marker": {
             "colorbar": {
              "outlinewidth": 0,
              "ticks": ""
             }
            },
            "type": "scatterternary"
           }
          ],
          "surface": [
           {
            "colorbar": {
             "outlinewidth": 0,
             "ticks": ""
            },
            "colorscale": [
             [
              0,
              "#0d0887"
             ],
             [
              0.1111111111111111,
              "#46039f"
             ],
             [
              0.2222222222222222,
              "#7201a8"
             ],
             [
              0.3333333333333333,
              "#9c179e"
             ],
             [
              0.4444444444444444,
              "#bd3786"
             ],
             [
              0.5555555555555556,
              "#d8576b"
             ],
             [
              0.6666666666666666,
              "#ed7953"
             ],
             [
              0.7777777777777778,
              "#fb9f3a"
             ],
             [
              0.8888888888888888,
              "#fdca26"
             ],
             [
              1,
              "#f0f921"
             ]
            ],
            "type": "surface"
           }
          ],
          "table": [
           {
            "cells": {
             "fill": {
              "color": "#EBF0F8"
             },
             "line": {
              "color": "white"
             }
            },
            "header": {
             "fill": {
              "color": "#C8D4E3"
             },
             "line": {
              "color": "white"
             }
            },
            "type": "table"
           }
          ]
         },
         "layout": {
          "annotationdefaults": {
           "arrowcolor": "#2a3f5f",
           "arrowhead": 0,
           "arrowwidth": 1
          },
          "autotypenumbers": "strict",
          "coloraxis": {
           "colorbar": {
            "outlinewidth": 0,
            "ticks": ""
           }
          },
          "colorscale": {
           "diverging": [
            [
             0,
             "#8e0152"
            ],
            [
             0.1,
             "#c51b7d"
            ],
            [
             0.2,
             "#de77ae"
            ],
            [
             0.3,
             "#f1b6da"
            ],
            [
             0.4,
             "#fde0ef"
            ],
            [
             0.5,
             "#f7f7f7"
            ],
            [
             0.6,
             "#e6f5d0"
            ],
            [
             0.7,
             "#b8e186"
            ],
            [
             0.8,
             "#7fbc41"
            ],
            [
             0.9,
             "#4d9221"
            ],
            [
             1,
             "#276419"
            ]
           ],
           "sequential": [
            [
             0,
             "#0d0887"
            ],
            [
             0.1111111111111111,
             "#46039f"
            ],
            [
             0.2222222222222222,
             "#7201a8"
            ],
            [
             0.3333333333333333,
             "#9c179e"
            ],
            [
             0.4444444444444444,
             "#bd3786"
            ],
            [
             0.5555555555555556,
             "#d8576b"
            ],
            [
             0.6666666666666666,
             "#ed7953"
            ],
            [
             0.7777777777777778,
             "#fb9f3a"
            ],
            [
             0.8888888888888888,
             "#fdca26"
            ],
            [
             1,
             "#f0f921"
            ]
           ],
           "sequentialminus": [
            [
             0,
             "#0d0887"
            ],
            [
             0.1111111111111111,
             "#46039f"
            ],
            [
             0.2222222222222222,
             "#7201a8"
            ],
            [
             0.3333333333333333,
             "#9c179e"
            ],
            [
             0.4444444444444444,
             "#bd3786"
            ],
            [
             0.5555555555555556,
             "#d8576b"
            ],
            [
             0.6666666666666666,
             "#ed7953"
            ],
            [
             0.7777777777777778,
             "#fb9f3a"
            ],
            [
             0.8888888888888888,
             "#fdca26"
            ],
            [
             1,
             "#f0f921"
            ]
           ]
          },
          "colorway": [
           "#636efa",
           "#EF553B",
           "#00cc96",
           "#ab63fa",
           "#FFA15A",
           "#19d3f3",
           "#FF6692",
           "#B6E880",
           "#FF97FF",
           "#FECB52"
          ],
          "font": {
           "color": "#2a3f5f"
          },
          "geo": {
           "bgcolor": "white",
           "lakecolor": "white",
           "landcolor": "white",
           "showlakes": true,
           "showland": true,
           "subunitcolor": "#C8D4E3"
          },
          "hoverlabel": {
           "align": "left"
          },
          "hovermode": "closest",
          "mapbox": {
           "style": "light"
          },
          "paper_bgcolor": "white",
          "plot_bgcolor": "white",
          "polar": {
           "angularaxis": {
            "gridcolor": "#EBF0F8",
            "linecolor": "#EBF0F8",
            "ticks": ""
           },
           "bgcolor": "white",
           "radialaxis": {
            "gridcolor": "#EBF0F8",
            "linecolor": "#EBF0F8",
            "ticks": ""
           }
          },
          "scene": {
           "xaxis": {
            "backgroundcolor": "white",
            "gridcolor": "#DFE8F3",
            "gridwidth": 2,
            "linecolor": "#EBF0F8",
            "showbackground": true,
            "ticks": "",
            "zerolinecolor": "#EBF0F8"
           },
           "yaxis": {
            "backgroundcolor": "white",
            "gridcolor": "#DFE8F3",
            "gridwidth": 2,
            "linecolor": "#EBF0F8",
            "showbackground": true,
            "ticks": "",
            "zerolinecolor": "#EBF0F8"
           },
           "zaxis": {
            "backgroundcolor": "white",
            "gridcolor": "#DFE8F3",
            "gridwidth": 2,
            "linecolor": "#EBF0F8",
            "showbackground": true,
            "ticks": "",
            "zerolinecolor": "#EBF0F8"
           }
          },
          "shapedefaults": {
           "line": {
            "color": "#2a3f5f"
           }
          },
          "ternary": {
           "aaxis": {
            "gridcolor": "#DFE8F3",
            "linecolor": "#A2B1C6",
            "ticks": ""
           },
           "baxis": {
            "gridcolor": "#DFE8F3",
            "linecolor": "#A2B1C6",
            "ticks": ""
           },
           "bgcolor": "white",
           "caxis": {
            "gridcolor": "#DFE8F3",
            "linecolor": "#A2B1C6",
            "ticks": ""
           }
          },
          "title": {
           "x": 0.05
          },
          "xaxis": {
           "automargin": true,
           "gridcolor": "#EBF0F8",
           "linecolor": "#EBF0F8",
           "ticks": "",
           "title": {
            "standoff": 15
           },
           "zerolinecolor": "#EBF0F8",
           "zerolinewidth": 2
          },
          "yaxis": {
           "automargin": true,
           "gridcolor": "#EBF0F8",
           "linecolor": "#EBF0F8",
           "ticks": "",
           "title": {
            "standoff": 15
           },
           "zerolinecolor": "#EBF0F8",
           "zerolinewidth": 2
          }
         }
        },
        "title": {
         "text": "Средняя скорость по группам"
        },
        "xaxis": {
         "title": {
          "text": "Временные шаги"
         }
        },
        "yaxis": {
         "title": {
          "text": "Средняя скорость"
         }
        }
       }
      }
     },
     "metadata": {},
     "output_type": "display_data"
    }
   ],
   "source": [
    "processor = GraphClusterProcessor(adj, data)\n",
    "processor.elbow_method(metric='PageRank', max_clusters=15)\n",
    "\n",
    "labels = KMeans(n_clusters=3, random_state=42).fit_predict(\n",
    "    np.array(list(nx.betweenness_centrality(nx.from_numpy_array(adj)).values())).reshape(-1, 1)\n",
    ")\n",
    "processor.plot_group_average_speeds(labels, n_clusters=3)"
   ]
  },
  {
   "cell_type": "code",
   "execution_count": 4,
   "metadata": {},
   "outputs": [],
   "source": [
    "data_expanded = processor.cluster_and_add_channel(metric='PageRank', n_clusters=3, one_hot=False, )"
   ]
  },
  {
   "cell_type": "markdown",
   "metadata": {},
   "source": [
    "### Other Features\n"
   ]
  },
  {
   "cell_type": "code",
   "execution_count": null,
   "metadata": {},
   "outputs": [],
   "source": [
    "# Определение функций\n",
    "feature_functions = {\n",
    "    # 'minute': minute_index_feature,\n",
    "    # 'weekday': weekday_index_feature,\n",
    "    # 'fft': fft_denoise_feature,\n",
    "    # 'mean': mean_feature,\n",
    "    # 'median': median_feature,\n",
    "    # 'std': std_feature,\n",
    "    # 'min': min_feature,\n",
    "    # 'max': max_feature,\n",
    "    # 'kurtosis': kurtosis_feature,\n",
    "    # 'skew': skew_feature,\n",
    "    # 'quantile': quantile_feature,\n",
    "    # 'rolling_mean': rolling_mean_feature,\n",
    "    # 'rolling_std': rolling_std_feature,\n",
    "    # 'rolling_min': rolling_min_feature,\n",
    "    # 'rolling_max': rolling_max_feature,\n",
    "}\n",
    "\n",
    "graph_feature_functions = {\n",
    "    # 'degree': degree_feature,\n",
    "    # 'node_index': node_indices_feature,\n",
    "    # 'degree_centrality': degree_centrality_feature,\n",
    "    # 'closeness_centrality': closeness_centrality_feature,\n",
    "    'betweenness_centrality': betweenness_centrality_feature,\n",
    "    # 'clustering_coefficient': clustering_coefficient_feature\n",
    "}\n",
    "\n",
    "# Добавление фичей для train\n",
    "data_expanded = add_features(\n",
    "    data,\n",
    "    feature_list=list(feature_functions.keys()),\n",
    "    feature_functions=feature_functions,\n",
    "    graph_feature_functions=graph_feature_functions,\n",
    "    index=None,\n",
    "    adj_matrix=adj\n",
    ")\n",
    "\n",
    "data_expanded.shape"
   ]
  },
  {
   "cell_type": "markdown",
   "metadata": {},
   "source": [
    "### Node Emb"
   ]
  },
  {
   "cell_type": "code",
   "execution_count": null,
   "metadata": {},
   "outputs": [],
   "source": [
    "node_indices = np.array([i for i in range(data.shape[1])])\n",
    "node_indices_expanded = np.expand_dims(node_indices, axis=0)  # Форма: (1, 325,)\n",
    "node_indices_expanded = np.expand_dims(node_indices_expanded, axis=-1)  # Форма: (1, 325, 1)\n",
    "node_indices_expanded = np.repeat(node_indices_expanded, data.shape[0], axis=0)  # Форма: (2016, 325, 1)\n",
    "\n",
    "# Объединение с временными рядами по последней оси\n",
    "data_expanded = np.concatenate([data, node_indices_expanded], axis=-1)  # Форма: (2016, 325, 3 + 1)\n",
    "\n",
    "# Проверка результата\n",
    "print(\"Исходные данные (временные ряды):\", data.shape)\n",
    "print(\"Эмбеддинги узлов:\", node_indices.shape)\n",
    "print(\"Объединённые данные:\", data_expanded.shape)"
   ]
  },
  {
   "cell_type": "markdown",
   "metadata": {},
   "source": [
    "### Node2vec embeddings"
   ]
  },
  {
   "cell_type": "code",
   "execution_count": null,
   "metadata": {},
   "outputs": [],
   "source": [
    "np.fill_diagonal(adj, 0)\n",
    "G = nx.from_numpy_array(adj)\n",
    "node2vec = Node2Vec(G, dimensions=64, walk_length=30, num_walks=400, p=1, q=1, workers=12)\n",
    "model = node2vec.fit(window=10, min_count=1, batch_words=4)\n",
    "node_embeddings = np.array([model.wv[str(node)] for node in G.nodes()])"
   ]
  },
  {
   "cell_type": "code",
   "execution_count": null,
   "metadata": {},
   "outputs": [],
   "source": [
    "node_embeddings_expanded = np.expand_dims(node_embeddings, axis=0)  # Форма: (1, 325, 64)\n",
    "node_embeddings_expanded = np.repeat(node_embeddings_expanded, data.shape[0], axis=0)  # Форма: (2016, 325, 64)\n",
    "\n",
    "# 4. Объединение с временными рядами по последней оси\n",
    "data_expanded = np.concatenate([data, node_embeddings_expanded], axis=-1)  # Форма: (2016, 325, 3 + 64)\n",
    "\n",
    "# 5. Проверка результата\n",
    "print(\"Исходные данные (временные ряды):\", data.shape)\n",
    "print(\"Эмбеддинги узлов:\", node_embeddings.shape)\n",
    "print(\"Объединённые данные:\", data_expanded.shape)"
   ]
  },
  {
   "cell_type": "markdown",
   "metadata": {},
   "source": [
    "### Position Encoding (PE)"
   ]
  },
  {
   "cell_type": "code",
   "execution_count": null,
   "metadata": {},
   "outputs": [],
   "source": [
    "def positional_encoding(pos, d_model):\n",
    "    position = np.arange(pos)[:, np.newaxis]\n",
    "    div_term = np.exp(np.arange(0, d_model, 2) * -(np.log(10000.0) / d_model))\n",
    "    pe = np.zeros((pos, d_model))\n",
    "    pe[:, 0::2] = np.sin(position * div_term)\n",
    "    pe[:, 1::2] = np.cos(position * div_term)\n",
    "    return pe\n",
    "\n",
    "# Пример для 325 узлов\n",
    "num_nodes = data.shape[1]\n",
    "d_model = 16\n",
    "pe = positional_encoding(num_nodes, d_model)  # Форма: (325, 64)\n",
    "\n",
    "# Расширение до (batch_size, 325, 64)\n",
    "pe = positional_encoding(num_nodes, d_model).astype(np.float32)  # Используйте float32\n",
    "pe_expanded = np.expand_dims(pe, axis=0)  # Форма: (1, 325, 64)\n",
    "pe_expanded = np.repeat(pe_expanded, data.shape[0], axis=0)  # Форма: (2016, 325, 64)\n",
    "pe_expanded = torch.tensor(pe_expanded, dtype=torch.float32)     # Для тензоров\n",
    "\n",
    "data_expanded = np.concatenate([data, pe_expanded], axis=-1)  # Форма: (2016, 325, 3 + 64)\n",
    "\n",
    "# 5. Проверка результата\n",
    "print(\"Исходные данные (временные ряды):\", data.shape)\n",
    "print(\"Эмбеддинги узлов:\", pe_expanded.shape)\n",
    "print(\"Объединённые данные:\", data_expanded.shape)"
   ]
  },
  {
   "cell_type": "markdown",
   "metadata": {},
   "source": [
    "### Разделение данных и создание Dataloader"
   ]
  },
  {
   "cell_type": "code",
   "execution_count": 5,
   "metadata": {},
   "outputs": [],
   "source": [
    "# Данные и параметры\n",
    "L, N, C = data_expanded.shape  # [2016, 325, C]\n",
    "batch_size = 16\n",
    "train_ratio = 0.7\n",
    "val_ratio = 0.1\n",
    "test_ratio = 0.2\n",
    "seq_len = 12  # Количество временных шагов на вход\n",
    "pred_len = 12  # Количество временных шагов для предсказания\n",
    "\n",
    "# Индексы каналов для нормализации\n",
    "normalize = True\n",
    "\n",
    "channels_to_normalize = [0]\n",
    "\n",
    "# Проверка корректности разделения данных\n",
    "assert train_ratio + val_ratio + test_ratio == 1.0, \"Сумма долей train, val и test должна быть равна 1.0\"\n",
    "\n",
    "# Разделение данных на train, val и test\n",
    "num_samples = data_expanded.shape[0]  # Количество временных шагов (L)\n",
    "train_size = int(num_samples * train_ratio)\n",
    "val_size = int(num_samples * val_ratio)\n",
    "test_size = num_samples - train_size - val_size\n",
    "\n",
    "train_data = data_expanded[:train_size, :, :]  # [train_size, N, C]\n",
    "val_data = data_expanded[train_size:train_size + val_size, :, :]  # [val_size, N, C]\n",
    "test_data = data_expanded[train_size + val_size:, :, :]  # [test_size, N, C]\n",
    "\n",
    "# Нормализация данных\n",
    "if normalize:\n",
    "    assert all(0 <= ch < C for ch in channels_to_normalize), \"Индексы каналов выходят за пределы допустимого диапазона\"\n",
    "    channel_max = train_data[:, :, channels_to_normalize].max(axis=(0, 1), keepdims=True)  # Форма [1, 1, len(channels_to_normalize)]\n",
    "    channel_max[channel_max == 0] = 1.0\n",
    "    train_data[:, :, channels_to_normalize] = train_data[:, :, channels_to_normalize] / channel_max\n",
    "    val_data[:, :, channels_to_normalize] = val_data[:, :, channels_to_normalize] / channel_max\n",
    "    test_data[:, :, channels_to_normalize] = test_data[:, :, channels_to_normalize] / channel_max\n",
    "\n",
    "# Создание кастомного Dataset\n",
    "class TrafficDataset(Dataset):\n",
    "    def __init__(self, data, seq_len, pred_len):\n",
    "        super().__init__()\n",
    "        self.data = data  # Форма [L, N, C]\n",
    "        self.seq_len = seq_len\n",
    "        self.pred_len = pred_len\n",
    "\n",
    "    def __len__(self):\n",
    "        # Количество возможных последовательностей\n",
    "        return self.data.shape[0] - self.seq_len - self.pred_len + 1\n",
    "\n",
    "    def __getitem__(self, idx):\n",
    "        # Извлекаем последовательность входных данных\n",
    "        x = self.data[idx:idx + self.seq_len, :, :]  # Форма [seq_len, N, C]\n",
    "        # Извлекаем целевую последовательность\n",
    "        y = self.data[idx + self.seq_len:idx + self.seq_len + self.pred_len, :, 0]  # Форма [pred_len, N, C]\n",
    "        return x, y\n",
    "    \n",
    "# Преобразование данных в тензоры с dtype=torch.float32\n",
    "train_data = torch.tensor(train_data, dtype=torch.float32)\n",
    "val_data = torch.tensor(val_data, dtype=torch.float32)\n",
    "test_data = torch.tensor(test_data, dtype=torch.float32)\n",
    "\n",
    "# Создание DataLoader\n",
    "train_dataset = TrafficDataset(train_data, seq_len, pred_len)\n",
    "val_dataset = TrafficDataset(val_data, seq_len, pred_len)\n",
    "test_dataset = TrafficDataset(test_data, seq_len, pred_len)\n",
    "\n",
    "train_loader = DataLoader(train_dataset, batch_size=batch_size, shuffle=True)\n",
    "val_loader = DataLoader(val_dataset, batch_size=batch_size, shuffle=False)\n",
    "test_loader = DataLoader(test_dataset, batch_size=batch_size, shuffle=False)"
   ]
  },
  {
   "cell_type": "code",
   "execution_count": 6,
   "metadata": {},
   "outputs": [
    {
     "name": "stdout",
     "output_type": "stream",
     "text": [
      "Shape of x (input data):    torch.Size([16, 12, 325, 4])\n",
      "Shape of y (target data):   torch.Size([16, 12, 325])\n",
      "\n",
      "First two sensors and time steps in x:\n",
      "tensor([[[ 0.7100, 80.0000,  3.0000,  2.0000],\n",
      "         [ 0.7840, 80.0000,  3.0000,  2.0000]],\n",
      "\n",
      "        [[ 0.6978, 81.0000,  3.0000,  2.0000],\n",
      "         [ 0.7803, 81.0000,  3.0000,  2.0000]]])\n",
      "\n",
      "First two sensors and time steps in y:\n",
      "tensor([[0.7488, 0.7998],\n",
      "        [0.7488, 0.7925]])\n",
      "\n",
      "Data types for each channel in x:\n",
      "Channel 0 dtype: torch.float32\n",
      "Channel 1 dtype: torch.float32\n",
      "Channel 2 dtype: torch.float32\n",
      "Channel 3 dtype: torch.float32\n"
     ]
    }
   ],
   "source": [
    "for x, y in train_loader:\n",
    "    print(f\"Shape of x (input data):    {x.shape}\")  # [B, L, N, C]\n",
    "    print(f\"Shape of y (target data):   {y.shape}\")  # [B, L, N]\n",
    "\n",
    "    # Проверка первых двух сенсоров и временных шагов\n",
    "    print(\"\\nFirst two sensors and time steps in x:\")\n",
    "    print(x[0, :2, :2, :])  # Первый батч, первые два временных шага, первые два сенсора, все каналы\n",
    "\n",
    "    print(\"\\nFirst two sensors and time steps in y:\")\n",
    "    print(y[0, :2, :2])  # Первый батч, первые два временных шага, первые два сенсора\n",
    "\n",
    "    # Проверка типов данных для всех каналов\n",
    "    print(\"\\nData types for each channel in x:\")\n",
    "    for channel in range(x.shape[3]):  # Проходим по всем каналам\n",
    "        print(f\"Channel {channel} dtype: {x[0, 0, 0, channel].dtype}\")\n",
    "\n",
    "    # Остановка выполнения для ручной проверки\n",
    "    break"
   ]
  },
  {
   "cell_type": "markdown",
   "metadata": {},
   "source": [
    "## Инициализация моделей и запуск обучения"
   ]
  },
  {
   "cell_type": "markdown",
   "metadata": {},
   "source": [
    "### QGNN Model"
   ]
  },
  {
   "cell_type": "code",
   "execution_count": 102,
   "metadata": {},
   "outputs": [],
   "source": [
    "import math\n",
    "import torch\n",
    "import torch.nn as nn\n",
    "import torch.nn.functional as F\n",
    "from torch.nn.parameter import Parameter\n",
    "\n",
    "def normalize_directed_adj(adj, mode='row'):\n",
    "    adj = adj + torch.eye(adj.size(0)).to(adj.device)\n",
    "    if mode == 'row':\n",
    "        degree = torch.sum(adj, dim=1, keepdim=True)\n",
    "    elif mode == 'col':\n",
    "        degree = torch.sum(adj, dim=0, keepdim=True)\n",
    "    else:\n",
    "        raise ValueError(\"Mode must be 'row' or 'col'.\")\n",
    "    \n",
    "    degree_inv = torch.where(degree > 0, 1.0 / degree, torch.zeros_like(degree))\n",
    "    return adj * degree_inv\n",
    "\n",
    "def normalize_adj(adj_batch):\n",
    "    \"\"\"\n",
    "    adj_batch: [B, N, N] или [N, N]\n",
    "    Возвращает: [B, N, N] с симметричной нормализацией для каждого графа в батче\n",
    "    \"\"\"\n",
    "    if adj_batch.dim() == 2:\n",
    "        adj_batch = adj_batch.unsqueeze(0)  # Добавляем размерность батча\n",
    "\n",
    "    B, N, _ = adj_batch.shape\n",
    "    identity = torch.eye(N).unsqueeze(0).expand(B, -1, -1).to(adj_batch.device)\n",
    "    adj_batch = adj_batch + identity\n",
    "    degree = adj_batch.sum(dim=2)  # [B, N]\n",
    "    degree_inv_sqrt = torch.where(degree > 0, degree.pow(-0.5), torch.zeros_like(degree))  # [B, N]\n",
    "    D_inv_sqrt = degree_inv_sqrt.unsqueeze(2) * torch.eye(N).unsqueeze(0).to(adj_batch.device)\n",
    "    adj_normalized = torch.bmm(torch.bmm(D_inv_sqrt, adj_batch), D_inv_sqrt)\n",
    "    \n",
    "    return adj_normalized.squeeze(0) if adj_batch.dim() == 3 and B == 1 else adj_normalized\n",
    "\n",
    "\n",
    "class QGNNLayer(nn.Module):\n",
    "    def __init__(self, in_features, out_features, num_nodes, dropout=0.5, act=F.tanh):\n",
    "        super(QGNNLayer, self).__init__()\n",
    "        self.num_nodes = num_nodes\n",
    "        self.act = act\n",
    "        self.dropout = nn.Dropout(dropout)\n",
    "        self.bn = nn.BatchNorm1d(out_features)\n",
    "        self.weight = Parameter(torch.FloatTensor(in_features, out_features))\n",
    "        self.reset_parameters()\n",
    "\n",
    "    def reset_parameters(self):\n",
    "        stdv = math.sqrt(6.0 / (self.weight.size(0) + self.weight.size(1)))\n",
    "        self.weight.data.uniform_(-stdv, stdv)\n",
    "    \n",
    "    def forward(self, x, adj):\n",
    "        x = self.dropout(x)\n",
    "        support = torch.mm(x, self.weight)\n",
    "      \n",
    "        B_N, hidden_dim = support.shape\n",
    "        B = B_N // self.num_nodes\n",
    "        N = self.num_nodes\n",
    "        support = support.view(B, N, hidden_dim)\n",
    "        output = torch.bmm(adj, support)\n",
    "        output = output.view(B * N, hidden_dim)\n",
    "        output = self.bn(output)\n",
    "        output = self.act(output)\n",
    "        return output\n",
    "\n",
    "class QGNNTrafficPredictor(nn.Module):\n",
    "    def __init__(self, adj, num_nodes, input_dim, hidden_dim, output_dim, num_layers, pre_len, emb_configs, dropout=0.5, directed=False):\n",
    "        \"\"\"\n",
    "        adj: матрица смежности\n",
    "        num_nodes: количество узлов\n",
    "        input_dim: размерность входных данных (без учёта эмбеддингов)\n",
    "        hidden_dim: размер скрытого слоя\n",
    "        output_dim: размер выходного слоя\n",
    "        num_layers: количество GNN-слоёв\n",
    "        pre_len: длина предсказания\n",
    "        emb_configs: словарь {канал: (num_embeddings, embedding_dim)}\n",
    "        dropout: коэффициент дропаута\n",
    "        \"\"\"\n",
    "        super(QGNNTrafficPredictor, self).__init__()\n",
    "        # self.adj = normalize_directed_adj(adj) if directed else normalize_adj(adj)\n",
    "        self.pre_len = pre_len\n",
    "        self.num_nodes = num_nodes\n",
    "        self.input_dim = input_dim\n",
    "        self.hidden_dim = hidden_dim\n",
    "        self.output_dim = output_dim\n",
    "        self.num_layers = num_layers\n",
    "        self.dropout = dropout\n",
    "        self.base_adj = adj\n",
    "        self.window_size = pre_len  # 1 час (12 * 5 мин)\n",
    "        self.alpha = 0.7  # Вес для базовой матрицы\n",
    "\n",
    "\n",
    "        # Инициализация эмбеддингов\n",
    "        self.embeddings = nn.ModuleDict({\n",
    "            f\"emb_{channel}\": nn.Embedding(num_embeddings, emb_dim)\n",
    "            for channel, (num_embeddings, emb_dim) in emb_configs.items()\n",
    "        })\n",
    "\n",
    "        total_emb_dim = sum(emb_dim for _, (_, emb_dim) in emb_configs.items())\n",
    "\n",
    "        # QGNN слои\n",
    "        self.qgnn_layers = nn.ModuleList([\n",
    "            QGNNLayer(input_dim if i == 0 else hidden_dim, hidden_dim, self.num_nodes, dropout)\n",
    "            for i in range(num_layers)\n",
    "        ])\n",
    "\n",
    "        # GRU\n",
    "        self.temporal_layer = nn.GRU(hidden_dim + total_emb_dim + 1, hidden_dim, batch_first=True)\n",
    "        self.relu = F.relu\n",
    "\n",
    "        # FC\n",
    "        self.fc1 = nn.Linear(hidden_dim, hidden_dim)\n",
    "        self.fc2 = nn.Linear(hidden_dim, output_dim)\n",
    "    \n",
    "    def compute_dynamic_adj(self, X):\n",
    "        \"\"\"X: [B, N, L, 1] (speed)\"\"\"\n",
    "        B, N, L, _ = X.shape\n",
    "        \n",
    "        # Векторизованный расчет корреляции\n",
    "        if L >= self.window_size:\n",
    "            data_window = X[:, :, -self.window_size:, 0]  # [B, N, window_size]\n",
    "            data_centered = data_window - data_window.mean(dim=2, keepdim=True)\n",
    "            cov = torch.matmul(data_centered, data_centered.transpose(1, 2))  # [B, N, N]\n",
    "            std = torch.sqrt(torch.sum(data_centered**2, dim=2))  # [B, N]\n",
    "            corr = cov / (std.unsqueeze(1) * std.unsqueeze(2) + 1e-8)  # [B, N, N]\n",
    "        else:\n",
    "            corr = torch.eye(N).unsqueeze(0).expand(B, -1, -1).to(X.device)\n",
    "        \n",
    "        # Комбинация с базовой матрицей\n",
    "        base_adj = self.base_adj.unsqueeze(0).expand(B, -1, -1)  # [B, N, N]\n",
    "        adj = self.alpha * base_adj + (1 - self.alpha) * corr\n",
    "        \n",
    "        return normalize_adj(adj)  # Нормализация всего батча\n",
    "\n",
    "    def forward(self, history_data, removed_channel=None):\n",
    "        \"\"\"\n",
    "        history_data: [B, L, N, C] - тензор временных рядов (где некоторые каналы содержат индексы эмбеддингов)\n",
    "        removed_channel: индекс канала, который нужно исключить\n",
    "        \"\"\"\n",
    "        B, L, N, C = history_data.shape\n",
    "\n",
    "        # Создание маски для исключения канала\n",
    "        if removed_channel is not None:\n",
    "            mask = torch.ones(C).to(history_data.device)\n",
    "            mask[removed_channel] = 0  # Отключаем канал\n",
    "            history_data = history_data * mask  # Применяем маску к данным\n",
    "\n",
    "        history_data = history_data.permute(0, 2, 1, 3)     # [B, N, L, C]\n",
    "        speed = history_data[:, :, :, :1]                   # [B, N, L, 1]\n",
    "\n",
    "        # Обрабатываем эмбеддинги, используя индексы из history_data\n",
    "        emb_list = []\n",
    "        for channel, emb_layer in self.embeddings.items():\n",
    "            channel_idx = int(channel.split(\"_\")[1])                    # Получаем номер канала\n",
    "            emb_indices = history_data[:, :, :, channel_idx].long()     # [B, N, L]\n",
    "            emb_list.append(emb_layer(emb_indices))                     # [B, N, L, emb_dim]\n",
    "\n",
    "        emb_concat = torch.cat(emb_list, dim=-1) if emb_list else None  # [B, N, L, total_emb_dim]\n",
    "        dynamic_adj = self.compute_dynamic_adj(history_data[..., :1])\n",
    "\n",
    "        outputs = []\n",
    "        for t in range(L):\n",
    "            x = history_data[:, :, t, :1]           # [B,  N, 1]\n",
    "            x = x.reshape(B * N, -1)                # [B * N, 1]\n",
    "            for qgnn_layer in self.qgnn_layers:\n",
    "                x = qgnn_layer(x, dynamic_adj)      # [B * N, hidden_dim]\n",
    "            x = x.reshape(B, N, -1)                 # [B,  N, hidden_dim]\n",
    "            outputs.append(x)\n",
    "        outputs = torch.stack(outputs, dim=2)       # [B,  N, L, hidden_dim]\n",
    "\n",
    "        # Добавляем эмбеддинги\n",
    "        if emb_concat is not None:\n",
    "            outputs = torch.cat([speed, outputs, emb_concat], dim=-1)  # [B, N, L, hidden_dim + total_emb_dim]\n",
    "        else:\n",
    "            outputs = torch.cat([speed, outputs], dim=-1)\n",
    "\n",
    "        # Применяем GRU\n",
    "        outputs = outputs.reshape(B * N, L, -1)     # [B * N, L, hidden_dim + total_emb_dim]\n",
    "        outputs, _ = self.temporal_layer(outputs)   # [B * N, L, hidden_dim]\n",
    "        outputs = outputs.reshape(B, N, L, -1)      # [B,  N, L, hidden_dim]\n",
    "        outputs = outputs[:, :, -self.pre_len:, :]  # [B,  N, pre_len, hidden_dim]\n",
    "        outputs = self.relu(outputs)\n",
    "\n",
    "        # Выходной слой\n",
    "        outputs = self.fc1(outputs)         # [B, N, pre_len, output_dim]\n",
    "        outputs = self.fc2(outputs)         # [B, N, pre_len, output_dim]\n",
    "        return outputs.permute(0, 2, 1, 3)  # [B, pre_len, N, output_dim]\n"
   ]
  },
  {
   "cell_type": "markdown",
   "metadata": {},
   "source": [
    "### DFDGCN Model"
   ]
  },
  {
   "cell_type": "code",
   "execution_count": 9,
   "metadata": {},
   "outputs": [],
   "source": [
    "import torch\n",
    "from torch import nn\n",
    "import torch.nn.functional as F\n",
    "import numpy as np\n",
    "\n",
    "\n",
    "class convt(nn.Module):\n",
    "    def __init__(self):\n",
    "        super(convt, self).__init__()\n",
    "\n",
    "    def forward(self, x, w):\n",
    "        x = torch.einsum('bne, ek->bnk', (x, w))\n",
    "        return x.contiguous()\n",
    "class nconv(nn.Module):\n",
    "    def __init__(self):\n",
    "        super(nconv, self).__init__()\n",
    "\n",
    "    def forward(self, x, A, dims):\n",
    "        if dims == 2:\n",
    "            x = torch.einsum('ncvl,vw->ncwl', (x, A))\n",
    "        elif dims == 3:\n",
    "            x = torch.einsum('ncvl,nvw->ncwl', (x, A))\n",
    "        else:\n",
    "            raise NotImplementedError('DFDGCN not implemented for A of dimension ' + str(dims))\n",
    "        return x.contiguous()\n",
    "\n",
    "class linear(nn.Module):\n",
    "    \"\"\"Linear layer.\"\"\"\n",
    "\n",
    "    def __init__(self, c_in, c_out):\n",
    "        super(linear, self).__init__()\n",
    "        self.mlp = torch.nn.Conv2d(c_in, c_out, kernel_size=(\n",
    "            1, 1), padding=(0, 0), stride=(1, 1), bias=True)\n",
    "\n",
    "    def forward(self, x):\n",
    "        return self.mlp(x)\n",
    "\n",
    "\n",
    "class gcn(nn.Module):\n",
    "    \"\"\"Graph convolution network.\"\"\"\n",
    "\n",
    "    def __init__(self, c_in, c_out, dropout, support_len=3, order=2):\n",
    "        super(gcn, self).__init__()\n",
    "        self.nconv = nconv()\n",
    "\n",
    "        self.c_in = c_in\n",
    "        c_in = (order * (support_len + 1) + 1) * self.c_in\n",
    "        self.mlp = linear(c_in, c_out)\n",
    "        self.dropout = dropout\n",
    "        self.order = order\n",
    "\n",
    "    def forward(self, x, support):\n",
    "\n",
    "        out = [x]\n",
    "        for a in support:\n",
    "            x1 = self.nconv(x, a.to(x.device), a.dim())\n",
    "            out.append(x1)\n",
    "\n",
    "            for k in range(2, self.order + 1):\n",
    "                x2 = self.nconv(x1, a.to(x1.device), a.dim())\n",
    "                out.append(x2)\n",
    "                x1 = x2\n",
    "        h = torch.cat(out, dim=1)\n",
    "        h = self.mlp(h)\n",
    "        h = F.dropout(h, self.dropout, training=self.training)\n",
    "        return h\n",
    "\n",
    "\n",
    "\n",
    "def dy_mask_graph(adj, k):\n",
    "    M = []\n",
    "    for i in range(adj.size(0)):\n",
    "        adp = adj[i]\n",
    "        mask = torch.zeros( adj.size(1),adj.size(2)).to(adj.device)\n",
    "        mask = mask.fill_(float(\"0\"))\n",
    "        s1, t1 = (adp + torch.rand_like(adp) * 0.01).topk(k, 1)\n",
    "        mask = mask.scatter_(1, t1, s1.fill_(1))\n",
    "        M.append(mask)\n",
    "    mask = torch.stack(M,dim=0)\n",
    "    adj = adj * mask\n",
    "    return adj\n",
    "\n",
    "\n",
    "\n",
    "def cat(x1,x2):\n",
    "    M = []\n",
    "    for i in range(x1.size(0)):\n",
    "        x = x1[i]\n",
    "        new_x = torch.cat([x,x2],dim=1)\n",
    "        M.append(new_x)\n",
    "    result = torch.stack(M,dim=0)\n",
    "    return result\n",
    "\n",
    "\n",
    "class DFDGCN(nn.Module):\n",
    "\n",
    "    def __init__(self, num_nodes, dropout=0.3, supports=None,\n",
    "                    gcn_bool=True, addaptadj=True, aptinit=None,\n",
    "                    in_dim=2, out_dim=12, residual_channels=32,\n",
    "                    dilation_channels=32, skip_channels=256, end_channels=512,\n",
    "                    kernel_size=2, blocks=4, layers=2, a=1, seq_len=12, affine=True, fft_emb=10, identity_emb=10, hidden_emb=30, subgraph=20, alpha=0.7, window_size=3):\n",
    "        super(DFDGCN, self).__init__()\n",
    "        self.window_size = window_size\n",
    "        self.alpha = alpha\n",
    "        self.dropout = dropout\n",
    "        self.blocks = blocks\n",
    "        self.layers = layers\n",
    "        self.gcn_bool = gcn_bool\n",
    "        self.addaptadj = addaptadj\n",
    "        self.filter_convs = nn.ModuleList()\n",
    "        self.gate_convs = nn.ModuleList()\n",
    "        self.residual_convs = nn.ModuleList()\n",
    "        self.skip_convs = nn.ModuleList()\n",
    "        self.bn = nn.ModuleList()\n",
    "        self.gconv = nn.ModuleList()\n",
    "        self.seq_len = seq_len\n",
    "        self.a = a\n",
    "\n",
    "        self.start_conv = nn.Conv2d(in_channels=in_dim,\n",
    "                                    out_channels=residual_channels,\n",
    "                                    kernel_size=(1, 1))\n",
    "\n",
    "        self.supports = supports\n",
    "        self.emb = fft_emb\n",
    "        self.subgraph_size = subgraph\n",
    "        self.identity_emb = identity_emb\n",
    "        self.hidden_emb = hidden_emb\n",
    "        self.fft_len = round(seq_len//2) + 1\n",
    "        self.Ex1 = nn.Parameter(torch.randn(self.fft_len, self.emb), requires_grad=True)\n",
    "        self.Wd = nn.Parameter(torch.randn(num_nodes,self.emb + self.identity_emb + self.seq_len * 2, self.hidden_emb), requires_grad=True)\n",
    "        self.Wxabs = nn.Parameter(torch.randn(self.hidden_emb, self.hidden_emb), requires_grad=True)\n",
    "\n",
    "        self.mlp = linear(residual_channels * 4,residual_channels)\n",
    "        self.layersnorm = torch.nn.LayerNorm(normalized_shape=[num_nodes,self.hidden_emb], eps=1e-08,elementwise_affine=affine)\n",
    "        self.convt = convt()\n",
    "\n",
    "        self.node1 = nn.Parameter(\n",
    "            torch.randn(num_nodes, self.identity_emb), requires_grad=True)\n",
    "        self.drop = nn.Dropout(p=dropout)\n",
    "\n",
    "        self.T_i_D_emb = nn.Parameter(\n",
    "            torch.empty(288, self.seq_len))\n",
    "        self.D_i_W_emb = nn.Parameter(\n",
    "            torch.empty(7, self.seq_len))\n",
    "\n",
    "        receptive_field = 1\n",
    "        self.reset_parameter()\n",
    "        self.supports_len = 0\n",
    "        if not addaptadj:\n",
    "            self.supports_len -= 1\n",
    "        if supports is not None:\n",
    "            self.supports_len += len(supports)\n",
    "        if gcn_bool and addaptadj:\n",
    "            if aptinit is None:\n",
    "                if supports is None:\n",
    "                    self.supports = []\n",
    "                self.nodevec1 = nn.Parameter(\n",
    "                    torch.randn(num_nodes, self.emb), requires_grad=True)\n",
    "                self.nodevec2 = nn.Parameter(\n",
    "                    torch.randn(self.emb, num_nodes), requires_grad=True)\n",
    "                self.supports_len += 1\n",
    "            else:\n",
    "                if supports is None:\n",
    "                    self.supports = []\n",
    "                m, p, n = torch.svd(aptinit)\n",
    "                initemb1 = torch.mm(m[:, :10], torch.diag(p[:10] ** 0.5))\n",
    "                initemb2 = torch.mm(torch.diag(p[:10] ** 0.5), n[:, :10].t())\n",
    "                self.nodevec1 = nn.Parameter(initemb1, requires_grad=True)\n",
    "                self.nodevec2 = nn.Parameter(initemb2, requires_grad=True)\n",
    "                self.supports_len += 1\n",
    "\n",
    "        for b in range(blocks):\n",
    "            additional_scope = kernel_size - 1\n",
    "            new_dilation = 1\n",
    "            for i in range(layers):\n",
    "                # dilated convolutions\n",
    "                self.filter_convs.append(nn.Conv2d(in_channels=residual_channels,\n",
    "                                                   out_channels=dilation_channels,\n",
    "                                                   kernel_size=(1, kernel_size), dilation=new_dilation))\n",
    "\n",
    "                self.gate_convs.append(nn.Conv2d(in_channels=residual_channels,\n",
    "                                                 out_channels=dilation_channels,\n",
    "                                                 kernel_size=(1, kernel_size), dilation=new_dilation))\n",
    "\n",
    "                # 1x1 convolution for residual connection\n",
    "                self.residual_convs.append(nn.Conv2d(in_channels=dilation_channels,\n",
    "                                                     out_channels=residual_channels,\n",
    "                                                     kernel_size=(1, 1)))\n",
    "\n",
    "                # 1x1 convolution for skip connection\n",
    "                self.skip_convs.append(nn.Conv2d(in_channels=dilation_channels,\n",
    "                                                 out_channels=skip_channels,\n",
    "                                                 kernel_size=(1, 1)))\n",
    "                self.bn.append(nn.BatchNorm2d(residual_channels))\n",
    "                new_dilation *= 2\n",
    "                receptive_field += additional_scope\n",
    "                additional_scope *= 2\n",
    "                if self.gcn_bool:\n",
    "                    self.gconv.append(\n",
    "                        gcn(dilation_channels, residual_channels, dropout, support_len=self.supports_len))\n",
    "        self.end_conv_1 = nn.Conv2d(in_channels=skip_channels,\n",
    "                                    out_channels=end_channels,\n",
    "                                    kernel_size=(1, 1),\n",
    "                                    bias=True)\n",
    "\n",
    "        self.end_conv_2 = nn.Conv2d(in_channels=end_channels,\n",
    "                                    out_channels=out_dim,\n",
    "                                    kernel_size=(1, 1),\n",
    "                                    bias=True)\n",
    "\n",
    "        self.receptive_field = receptive_field\n",
    "\n",
    "    def reset_parameter(self):\n",
    "        nn.init.xavier_uniform_(self.T_i_D_emb)\n",
    "        nn.init.xavier_uniform_(self.D_i_W_emb)\n",
    "\n",
    "    def compute_dynamic_adj(self, X):\n",
    "        \"\"\"X: [B, L, N, C] (speed)\"\"\"\n",
    "        B, L, N, C = X.shape\n",
    "        \n",
    "        # Векторизованный расчет корреляции\n",
    "        if L >= self.window_size:\n",
    "            data_window = X[:, -self.window_size:, :, 0]  # [B, window_size, N]\n",
    "            data_centered = data_window - data_window.mean(dim=2, keepdim=True)\n",
    "            cov = torch.matmul(data_centered, data_centered.transpose(1, 2))  # [B, N, N]\n",
    "            std = torch.sqrt(torch.sum(data_centered**2, dim=2))  # [B, N]\n",
    "            corr = cov / (std.unsqueeze(1) * std.unsqueeze(2) + 1e-8)  # [B, N, N]\n",
    "        else:\n",
    "            corr = torch.eye(N).unsqueeze(0).expand(B, -1, -1).to(X.device)\n",
    "        \n",
    "        # Комбинация с базовой матрицей\n",
    "        base_adj = self.supports[0].unsqueeze(0).expand(B, -1, -1)  # [B, N, N]\n",
    "        adj = self.alpha * base_adj + (1 - self.alpha) * corr\n",
    "        \n",
    "        return normalize_adj(adj)  # Нормализация всего батча\n",
    "\n",
    "\n",
    "    def forward(self, history_data: torch.Tensor) -> torch.Tensor: # , future_data: torch.Tensor, batch_seen: int, epoch: int, train: bool, **kwargs\n",
    "        \"\"\"Feedforward function of DFDGCN; Based on Graph WaveNet\n",
    "\n",
    "        Args:\n",
    "            history_data (torch.Tensor): shape [B, L, N, C]\n",
    "\n",
    "        Graphs:\n",
    "            predefined graphs: two graphs; [2, N, N] : Pre-given graph structure, including in-degree and out-degree graphs\n",
    "\n",
    "            self-adaptive graph: [N, N] : Self-Adaptively constructed graphs with two learnable parameters\n",
    "                torch.mm(self.nodevec1, self.nodevec2)\n",
    "                    nodevec: [N, Emb]\n",
    "\n",
    "            dynamic frequency domain graph: [B, N, N] : Data-driven graphs constructed with frequency domain information from traffic data\n",
    "                traffic_data : [B, N, L]\n",
    "                frequency domain information : [B, N, L/2.round + 1] ------Embedding ------[B, N, Emb2]\n",
    "                Identity embedding : learnable parameter [N, Emb3]\n",
    "                Time embedding : Week and Day : [N, 7] [N, 24(hour) * 12 (60min / 5min due to sampling)] ------Embedding ------ [N, 2 * Emb4]\n",
    "                Concat frequency domain information + Identity embedding + Time embedding ------Embedding , Activating, Normalization and Dropout\n",
    "                Conv1d to get adjacency matrix\n",
    "\n",
    "        Returns:\n",
    "            torch.Tensor: [B, L, N, 1]\n",
    "        \"\"\"\n",
    "        #num_feat = model_args[\"num_feat\"]\n",
    "        input = history_data.transpose(1, 3).contiguous()[:,0:2,:,:] # [B, C, N, L]\n",
    "        data = history_data\n",
    "\n",
    "        in_len = input.size(3)\n",
    "        if in_len < self.receptive_field:\n",
    "            x = nn.functional.pad(\n",
    "                input, (self.receptive_field-in_len, 0, 0, 0))\n",
    "        else:\n",
    "            x = input\n",
    "        x = self.start_conv(x)\n",
    "\n",
    "        skip = 0\n",
    "        if self.gcn_bool and self.addaptadj and self.supports is not None:\n",
    "\n",
    "\n",
    "            gwadp = F.softmax(\n",
    "                F.relu(torch.mm(self.nodevec1, self.nodevec2)), dim=1)\n",
    "\n",
    "            new_supports = self.supports + [gwadp] # pretrained graph in DCRNN and self-adaptive graph in GWNet\n",
    "\n",
    "            # # Construction of dynamic frequency domain graph\n",
    "            # xn1 = input[:, 0, :, -self.seq_len:]\n",
    "\n",
    "            # T_D = self.T_i_D_emb[(data[:, :, :, 1] * 288).type(torch.LongTensor)][:, -1, :, :]\n",
    "            # D_W = self.D_i_W_emb[(data[:, :, :, 1 + 1]).type(torch.LongTensor)][:, -1, :, :]\n",
    "\n",
    "            # xn1 = torch.fft.rfft(xn1, dim=-1)\n",
    "            # xn1 = torch.abs(xn1)\n",
    "\n",
    "            # xn1 = torch.nn.functional.normalize(xn1, p=2.0, dim=1, eps=1e-12, out=None)\n",
    "            # xn1 = torch.nn.functional.normalize(xn1, p=2.0, dim=2, eps=1e-12, out=None) * self.a\n",
    "\n",
    "\n",
    "            # xn1 = torch.matmul(xn1, self.Ex1)\n",
    "            # xn1k = cat(xn1, self.node1)\n",
    "            # x_n1 = torch.cat([xn1k, T_D, D_W], dim=2)\n",
    "            # x1 = torch.bmm(x_n1.permute(1,0,2),self.Wd).permute(1,0,2)\n",
    "            # x1 = torch.relu(x1)\n",
    "            # x1k = self.layersnorm(x1)\n",
    "            # x1k = self.drop(x1k)\n",
    "            # adp = self.convt(x1k, self.Wxabs)\n",
    "            # adj = torch.bmm(adp, x1.permute(0, 2, 1))\n",
    "            # adp = torch.relu(adj)\n",
    "            # adp = dy_mask_graph(adp, self.subgraph_size)\n",
    "            # adp = F.softmax(adp, dim=2)\n",
    "\n",
    "            adp = self.compute_dynamic_adj(history_data)\n",
    "            new_supports = new_supports + [adp]\n",
    "\n",
    "\n",
    "\n",
    "        # WaveNet layers\n",
    "        for i in range(self.blocks * self.layers):\n",
    "\n",
    "            #            |----------------------------------------|     *residual*\n",
    "            #            |                                        |\n",
    "            #            |    |-- conv -- tanh --|                |\n",
    "            # -> dilate -|----|                  * ----|-- 1x1 -- + -->\t*input*\n",
    "            #                 |-- conv -- sigm --|     |\n",
    "            #                                         1x1\n",
    "            #                                          |\n",
    "            # ---------------------------------------> + ------------->\t*skip*\n",
    "\n",
    "\n",
    "            # dilated convolution\n",
    "            residual = x\n",
    "            filter = self.filter_convs[i](residual)\n",
    "            filter = torch.tanh(filter)\n",
    "            gate = self.gate_convs[i](residual)\n",
    "            gate = torch.sigmoid(gate)\n",
    "            x = filter * gate\n",
    "\n",
    "            # parametrized skip connection\n",
    "\n",
    "            s = x\n",
    "\n",
    "            s = self.skip_convs[i](s)\n",
    "            try:\n",
    "                skip = skip[:, :, :,  -s.size(3):]\n",
    "\n",
    "            except:\n",
    "                skip = 0\n",
    "            skip = s + skip\n",
    "\n",
    "            if self.gcn_bool and self.supports is not None:\n",
    "                if self.addaptadj:\n",
    "                    x = self.gconv[i](x, new_supports)\n",
    "\n",
    "                else:\n",
    "                    x = self.gconv[i](x, self.supports)\n",
    "            else:\n",
    "                x = self.residual_convs[i](x)\n",
    "            x = x + residual[:, :, :, -x.size(3):]\n",
    "\n",
    "            x = self.bn[i](x)\n",
    "\n",
    "        x = F.relu(skip)\n",
    "        x = F.relu(self.end_conv_1(x))\n",
    "        x = self.end_conv_2(x)\n",
    "        return x"
   ]
  },
  {
   "cell_type": "markdown",
   "metadata": {},
   "source": [
    "### Инициализация модели"
   ]
  },
  {
   "cell_type": "code",
   "execution_count": 10,
   "metadata": {},
   "outputs": [
    {
     "name": "stdout",
     "output_type": "stream",
     "text": [
      "cpu\n"
     ]
    },
    {
     "ename": "RuntimeError",
     "evalue": "Failed to run torchinfo. See above stack traces for more details. Executed layers up to: [Conv2d: 1]",
     "output_type": "error",
     "traceback": [
      "\u001b[1;31m---------------------------------------------------------------------------\u001b[0m",
      "\u001b[1;31mRuntimeError\u001b[0m                              Traceback (most recent call last)",
      "File \u001b[1;32md:\\IT\\GitHub\\traffic_prediction_model\\.venv\\lib\\site-packages\\torchinfo\\torchinfo.py:295\u001b[0m, in \u001b[0;36mforward_pass\u001b[1;34m(model, x, batch_dim, cache_forward_pass, device, mode, **kwargs)\u001b[0m\n\u001b[0;32m    294\u001b[0m \u001b[38;5;28;01mif\u001b[39;00m \u001b[38;5;28misinstance\u001b[39m(x, (\u001b[38;5;28mlist\u001b[39m, \u001b[38;5;28mtuple\u001b[39m)):\n\u001b[1;32m--> 295\u001b[0m     _ \u001b[38;5;241m=\u001b[39m model(\u001b[38;5;241m*\u001b[39mx, \u001b[38;5;241m*\u001b[39m\u001b[38;5;241m*\u001b[39mkwargs)\n\u001b[0;32m    296\u001b[0m \u001b[38;5;28;01melif\u001b[39;00m \u001b[38;5;28misinstance\u001b[39m(x, \u001b[38;5;28mdict\u001b[39m):\n",
      "File \u001b[1;32md:\\IT\\GitHub\\traffic_prediction_model\\.venv\\lib\\site-packages\\torch\\nn\\modules\\module.py:1739\u001b[0m, in \u001b[0;36mModule._wrapped_call_impl\u001b[1;34m(self, *args, **kwargs)\u001b[0m\n\u001b[0;32m   1738\u001b[0m \u001b[38;5;28;01melse\u001b[39;00m:\n\u001b[1;32m-> 1739\u001b[0m     \u001b[38;5;28;01mreturn\u001b[39;00m \u001b[38;5;28mself\u001b[39m\u001b[38;5;241m.\u001b[39m_call_impl(\u001b[38;5;241m*\u001b[39margs, \u001b[38;5;241m*\u001b[39m\u001b[38;5;241m*\u001b[39mkwargs)\n",
      "File \u001b[1;32md:\\IT\\GitHub\\traffic_prediction_model\\.venv\\lib\\site-packages\\torch\\nn\\modules\\module.py:1845\u001b[0m, in \u001b[0;36mModule._call_impl\u001b[1;34m(self, *args, **kwargs)\u001b[0m\n\u001b[0;32m   1844\u001b[0m \u001b[38;5;28;01mtry\u001b[39;00m:\n\u001b[1;32m-> 1845\u001b[0m     \u001b[38;5;28;01mreturn\u001b[39;00m \u001b[43minner\u001b[49m\u001b[43m(\u001b[49m\u001b[43m)\u001b[49m\n\u001b[0;32m   1846\u001b[0m \u001b[38;5;28;01mexcept\u001b[39;00m \u001b[38;5;167;01mException\u001b[39;00m:\n\u001b[0;32m   1847\u001b[0m     \u001b[38;5;66;03m# run always called hooks if they have not already been run\u001b[39;00m\n\u001b[0;32m   1848\u001b[0m     \u001b[38;5;66;03m# For now only forward hooks have the always_call option but perhaps\u001b[39;00m\n\u001b[0;32m   1849\u001b[0m     \u001b[38;5;66;03m# this functionality should be added to full backward hooks as well.\u001b[39;00m\n",
      "File \u001b[1;32md:\\IT\\GitHub\\traffic_prediction_model\\.venv\\lib\\site-packages\\torch\\nn\\modules\\module.py:1793\u001b[0m, in \u001b[0;36mModule._call_impl.<locals>.inner\u001b[1;34m()\u001b[0m\n\u001b[0;32m   1791\u001b[0m     args \u001b[38;5;241m=\u001b[39m bw_hook\u001b[38;5;241m.\u001b[39msetup_input_hook(args)\n\u001b[1;32m-> 1793\u001b[0m result \u001b[38;5;241m=\u001b[39m forward_call(\u001b[38;5;241m*\u001b[39margs, \u001b[38;5;241m*\u001b[39m\u001b[38;5;241m*\u001b[39mkwargs)\n\u001b[0;32m   1794\u001b[0m \u001b[38;5;28;01mif\u001b[39;00m _global_forward_hooks \u001b[38;5;129;01mor\u001b[39;00m \u001b[38;5;28mself\u001b[39m\u001b[38;5;241m.\u001b[39m_forward_hooks:\n",
      "Cell \u001b[1;32mIn[9], line 309\u001b[0m, in \u001b[0;36mDFDGCN.forward\u001b[1;34m(self, history_data)\u001b[0m\n\u001b[0;32m    283\u001b[0m \u001b[38;5;66;03m# # Construction of dynamic frequency domain graph\u001b[39;00m\n\u001b[0;32m    284\u001b[0m \u001b[38;5;66;03m# xn1 = input[:, 0, :, -self.seq_len:]\u001b[39;00m\n\u001b[0;32m    285\u001b[0m \n\u001b[1;32m   (...)\u001b[0m\n\u001b[0;32m    306\u001b[0m \u001b[38;5;66;03m# adp = dy_mask_graph(adp, self.subgraph_size)\u001b[39;00m\n\u001b[0;32m    307\u001b[0m \u001b[38;5;66;03m# adp = F.softmax(adp, dim=2)\u001b[39;00m\n\u001b[1;32m--> 309\u001b[0m adp \u001b[38;5;241m=\u001b[39m \u001b[38;5;28;43mself\u001b[39;49m\u001b[38;5;241;43m.\u001b[39;49m\u001b[43mcompute_dynamic_adj\u001b[49m\u001b[43m(\u001b[49m\u001b[43mhistory_data\u001b[49m\u001b[43m)\u001b[49m\n\u001b[0;32m    310\u001b[0m new_supports \u001b[38;5;241m=\u001b[39m new_supports \u001b[38;5;241m+\u001b[39m [adp]\n",
      "Cell \u001b[1;32mIn[9], line 233\u001b[0m, in \u001b[0;36mDFDGCN.compute_dynamic_adj\u001b[1;34m(self, X)\u001b[0m\n\u001b[0;32m    232\u001b[0m base_adj \u001b[38;5;241m=\u001b[39m \u001b[38;5;28mself\u001b[39m\u001b[38;5;241m.\u001b[39msupports[\u001b[38;5;241m0\u001b[39m]\u001b[38;5;241m.\u001b[39munsqueeze(\u001b[38;5;241m0\u001b[39m)\u001b[38;5;241m.\u001b[39mexpand(B, \u001b[38;5;241m-\u001b[39m\u001b[38;5;241m1\u001b[39m, \u001b[38;5;241m-\u001b[39m\u001b[38;5;241m1\u001b[39m)  \u001b[38;5;66;03m# [B, N, N]\u001b[39;00m\n\u001b[1;32m--> 233\u001b[0m adj \u001b[38;5;241m=\u001b[39m \u001b[38;5;28;43mself\u001b[39;49m\u001b[38;5;241;43m.\u001b[39;49m\u001b[43malpha\u001b[49m\u001b[43m \u001b[49m\u001b[38;5;241;43m*\u001b[39;49m\u001b[43m \u001b[49m\u001b[43mbase_adj\u001b[49m\u001b[43m \u001b[49m\u001b[38;5;241;43m+\u001b[39;49m\u001b[43m \u001b[49m\u001b[43m(\u001b[49m\u001b[38;5;241;43m1\u001b[39;49m\u001b[43m \u001b[49m\u001b[38;5;241;43m-\u001b[39;49m\u001b[43m \u001b[49m\u001b[38;5;28;43mself\u001b[39;49m\u001b[38;5;241;43m.\u001b[39;49m\u001b[43malpha\u001b[49m\u001b[43m)\u001b[49m\u001b[43m \u001b[49m\u001b[38;5;241;43m*\u001b[39;49m\u001b[43m \u001b[49m\u001b[43mcorr\u001b[49m\n\u001b[0;32m    235\u001b[0m \u001b[38;5;28;01mreturn\u001b[39;00m normalize_adj(adj)\n",
      "\u001b[1;31mRuntimeError\u001b[0m: The size of tensor a (325) must match the size of tensor b (3) at non-singleton dimension 2",
      "\nThe above exception was the direct cause of the following exception:\n",
      "\u001b[1;31mRuntimeError\u001b[0m                              Traceback (most recent call last)",
      "Cell \u001b[1;32mIn[10], line 42\u001b[0m\n\u001b[0;32m     40\u001b[0m train_iter \u001b[38;5;241m=\u001b[39m \u001b[38;5;28miter\u001b[39m(train_loader)\n\u001b[0;32m     41\u001b[0m history_data \u001b[38;5;241m=\u001b[39m \u001b[38;5;28mnext\u001b[39m(train_iter)[\u001b[38;5;241m0\u001b[39m]  \u001b[38;5;66;03m# Получаем одну порцию данных из train_loader\u001b[39;00m\n\u001b[1;32m---> 42\u001b[0m \u001b[43msummary\u001b[49m\u001b[43m(\u001b[49m\u001b[43mmodel\u001b[49m\u001b[43m,\u001b[49m\u001b[43m \u001b[49m\u001b[43minput_data\u001b[49m\u001b[38;5;241;43m=\u001b[39;49m\u001b[43mhistory_data\u001b[49m\u001b[38;5;241;43m.\u001b[39;49m\u001b[43mto\u001b[49m\u001b[43m(\u001b[49m\u001b[43mdevice\u001b[49m\u001b[43m)\u001b[49m\u001b[43m)\u001b[49m\n",
      "File \u001b[1;32md:\\IT\\GitHub\\traffic_prediction_model\\.venv\\lib\\site-packages\\torchinfo\\torchinfo.py:223\u001b[0m, in \u001b[0;36msummary\u001b[1;34m(model, input_size, input_data, batch_dim, cache_forward_pass, col_names, col_width, depth, device, dtypes, mode, row_settings, verbose, **kwargs)\u001b[0m\n\u001b[0;32m    216\u001b[0m validate_user_params(\n\u001b[0;32m    217\u001b[0m     input_data, input_size, columns, col_width, device, dtypes, verbose\n\u001b[0;32m    218\u001b[0m )\n\u001b[0;32m    220\u001b[0m x, correct_input_size \u001b[38;5;241m=\u001b[39m process_input(\n\u001b[0;32m    221\u001b[0m     input_data, input_size, batch_dim, device, dtypes\n\u001b[0;32m    222\u001b[0m )\n\u001b[1;32m--> 223\u001b[0m summary_list \u001b[38;5;241m=\u001b[39m forward_pass(\n\u001b[0;32m    224\u001b[0m     model, x, batch_dim, cache_forward_pass, device, model_mode, \u001b[38;5;241m*\u001b[39m\u001b[38;5;241m*\u001b[39mkwargs\n\u001b[0;32m    225\u001b[0m )\n\u001b[0;32m    226\u001b[0m formatting \u001b[38;5;241m=\u001b[39m FormattingOptions(depth, verbose, columns, col_width, rows)\n\u001b[0;32m    227\u001b[0m results \u001b[38;5;241m=\u001b[39m ModelStatistics(\n\u001b[0;32m    228\u001b[0m     summary_list, correct_input_size, get_total_memory_used(x), formatting\n\u001b[0;32m    229\u001b[0m )\n",
      "File \u001b[1;32md:\\IT\\GitHub\\traffic_prediction_model\\.venv\\lib\\site-packages\\torchinfo\\torchinfo.py:304\u001b[0m, in \u001b[0;36mforward_pass\u001b[1;34m(model, x, batch_dim, cache_forward_pass, device, mode, **kwargs)\u001b[0m\n\u001b[0;32m    302\u001b[0m \u001b[38;5;28;01mexcept\u001b[39;00m \u001b[38;5;167;01mException\u001b[39;00m \u001b[38;5;28;01mas\u001b[39;00m e:\n\u001b[0;32m    303\u001b[0m     executed_layers \u001b[38;5;241m=\u001b[39m [layer \u001b[38;5;28;01mfor\u001b[39;00m layer \u001b[38;5;129;01min\u001b[39;00m summary_list \u001b[38;5;28;01mif\u001b[39;00m layer\u001b[38;5;241m.\u001b[39mexecuted]\n\u001b[1;32m--> 304\u001b[0m     \u001b[38;5;28;01mraise\u001b[39;00m \u001b[38;5;167;01mRuntimeError\u001b[39;00m(\n\u001b[0;32m    305\u001b[0m         \u001b[38;5;124m\"\u001b[39m\u001b[38;5;124mFailed to run torchinfo. See above stack traces for more details. \u001b[39m\u001b[38;5;124m\"\u001b[39m\n\u001b[0;32m    306\u001b[0m         \u001b[38;5;124mf\u001b[39m\u001b[38;5;124m\"\u001b[39m\u001b[38;5;124mExecuted layers up to: \u001b[39m\u001b[38;5;132;01m{\u001b[39;00mexecuted_layers\u001b[38;5;132;01m}\u001b[39;00m\u001b[38;5;124m\"\u001b[39m\n\u001b[0;32m    307\u001b[0m     ) \u001b[38;5;28;01mfrom\u001b[39;00m\u001b[38;5;250m \u001b[39m\u001b[38;5;21;01me\u001b[39;00m\n\u001b[0;32m    308\u001b[0m \u001b[38;5;28;01mfinally\u001b[39;00m:\n\u001b[0;32m    309\u001b[0m     \u001b[38;5;28;01mif\u001b[39;00m hooks:\n",
      "\u001b[1;31mRuntimeError\u001b[0m: Failed to run torchinfo. See above stack traces for more details. Executed layers up to: [Conv2d: 1]"
     ]
    }
   ],
   "source": [
    "from torchinfo import summary\n",
    "\n",
    "# Определение устройства\n",
    "device = torch.device(\"cuda\") if torch.cuda.is_available() else 'cpu'\n",
    "print(device)\n",
    "\n",
    "adj = adj.clone().detach().to(torch.float32).to(device) if isinstance(adj, torch.Tensor) else torch.tensor(adj, dtype=torch.float32).to(device)\n",
    "supports = [adj]\n",
    "\n",
    "num_nodes = train_data.shape[1]\n",
    "input_dim = 1  # Например, только скорость\n",
    "hidden_dim = 64\n",
    "output_dim = 1\n",
    "num_layers = 2\n",
    "pre_len = pred_len\n",
    "\n",
    "# Конфигурация эмбеддингов\n",
    "emb_configs = {\n",
    "    1: (288, 5),    # Канал 1\n",
    "    # 2: (7, 5),      # Канал 2\n",
    "    # 3: (3, 5),      # Канал 3\n",
    "    # 4: (N, 5),      # Канал 4\n",
    "}\n",
    "\n",
    "# # Обновление модели, данных и вычислений\n",
    "# model = QGNNTrafficPredictor(adj, num_nodes, input_dim, hidden_dim, output_dim, num_layers, seq_len, pre_len, emb_configs).to(device)\n",
    "# criterion = nn.MSELoss()  # Функция потерь\n",
    "# optimizer = optim.Adam(model.parameters(), lr=1e-3, weight_decay=1e-4)\n",
    "\n",
    "# # Получаем один батч данных\n",
    "# train_iter = iter(train_loader)\n",
    "# history_data = next(train_iter)[0]  # Получаем одну порцию данных из train_loader\n",
    "# summary(model, input_data=history_data.to(device))\n",
    "\n",
    "\n",
    "model = DFDGCN(num_nodes, dropout=0.3, supports=supports, gcn_bool=True, addaptadj=True, aptinit=None, in_dim=2, out_dim=12, residual_channels=32, dilation_channels=32, skip_channels=256, end_channels=512, kernel_size=2, blocks=4, layers=2, a=1, seq_len=seq_len, affine=True, fft_emb=10, identity_emb=10, hidden_emb=30, subgraph=20, alpha=0.7, window_size=3).to(device)\n",
    "criterion = nn.MSELoss()  # Функция потерь\n",
    "optimizer = optim.Adam(model.parameters(), lr=1e-3, weight_decay=1e-4)\n",
    "# Получаем один батч данных\n",
    "train_iter = iter(train_loader)\n",
    "history_data = next(train_iter)[0]  # Получаем одну порцию данных из train_loader\n",
    "summary(model, input_data=history_data.to(device))"
   ]
  },
  {
   "cell_type": "markdown",
   "metadata": {},
   "source": [
    "### Инициализация TensorBoard и функция запуска обучения"
   ]
  },
  {
   "cell_type": "code",
   "execution_count": 12,
   "metadata": {},
   "outputs": [],
   "source": [
    "def compute_metrics(output, target):\n",
    "    \"\"\"Вычисление метрик MAE, RMSE, MAPE.\"\"\"\n",
    "    abs_error = torch.abs(output - target).sum().item()\n",
    "    mae = abs_error / len(target)\n",
    "    rmse = ((output - target) ** 2).sum().item() / len(target)\n",
    "    rmse = rmse ** 0.5\n",
    "    mape = (abs_error / torch.abs(target).sum().item()) if torch.abs(target).sum().item() != 0 else 0\n",
    "    return mae, rmse, mape\n",
    "\n",
    "def train_val_test_model(model, train_loader, val_loader, test_loader, epochs, writer):\n",
    "    best_val_loss = float('inf')\n",
    "\n",
    "    for epoch in range(epochs):\n",
    "        # === Тренировка ===\n",
    "        model.train()\n",
    "        train_loss, train_mae, train_rmse, train_mape = 0.0, 0.0, 0.0, 0.0\n",
    "        train_loader_tqdm = tqdm(train_loader, desc=f\"Epoch {epoch + 1}/{epochs} - Training\", leave=False)\n",
    "\n",
    "        for x, y in train_loader_tqdm:\n",
    "            x, y = x.to(device), y.to(device)\n",
    "            optimizer.zero_grad()\n",
    "            output = model(x).squeeze(-1)\n",
    "            loss = criterion(output, y)\n",
    "            loss.backward()\n",
    "            optimizer.step()\n",
    "            train_loss += loss.item() * x.size(0)\n",
    "\n",
    "            mae, rmse, mape = compute_metrics(output, y)\n",
    "            train_mae += mae\n",
    "            train_rmse += rmse\n",
    "            train_mape += mape\n",
    "\n",
    "        train_loss /= len(train_loader.dataset)\n",
    "        train_mae /= len(train_loader)\n",
    "        train_rmse /= len(train_loader)\n",
    "        train_mape /= len(train_loader)\n",
    "\n",
    "        writer.add_scalar(\"Loss/Train\", train_loss, epoch + 1)\n",
    "        writer.add_scalar(\"MAE/Train\", train_mae, epoch + 1)\n",
    "        writer.add_scalar(\"RMSE/Train\", train_rmse, epoch + 1)\n",
    "        writer.add_scalar(\"MAPE/Train\", train_mape, epoch + 1)\n",
    "\n",
    "        # === Валидация ===\n",
    "        model.eval()\n",
    "        val_loss, val_mae, val_rmse, val_mape = 0.0, 0.0, 0.0, 0.0\n",
    "        val_loader_tqdm = tqdm(val_loader, desc=f\"Epoch {epoch + 1}/{epochs} - Validation\", leave=False)\n",
    "\n",
    "        with torch.no_grad():\n",
    "            for x, y in val_loader_tqdm:\n",
    "                x, y = x.to(device), y.to(device)\n",
    "                output = model(x).squeeze(-1)\n",
    "                loss = criterion(output, y)\n",
    "                val_loss += loss.item() * x.size(0)\n",
    "\n",
    "                mae, rmse, mape = compute_metrics(output, y)\n",
    "                val_mae += mae\n",
    "                val_rmse += rmse\n",
    "                val_mape += mape\n",
    "\n",
    "        val_loss /= len(val_loader.dataset)\n",
    "        val_mae /= len(val_loader)\n",
    "        val_rmse /= len(val_loader)\n",
    "        val_mape /= len(val_loader)\n",
    "\n",
    "        writer.add_scalar(\"Loss/Validation\", val_loss, epoch + 1)\n",
    "        writer.add_scalar(\"MAE/Validation\", val_mae, epoch + 1)\n",
    "        writer.add_scalar(\"RMSE/Validation\", val_rmse, epoch + 1)\n",
    "        writer.add_scalar(\"MAPE/Validation\", val_mape, epoch + 1)\n",
    "\n",
    "        # === Тестирование ===\n",
    "        test_loss, test_mae, test_rmse, test_mape = 0.0, 0.0, 0.0, 0.0\n",
    "        test_loader_tqdm = tqdm(test_loader, desc=f\"Epoch {epoch + 1}/{epochs} - Testing\", leave=False)\n",
    "\n",
    "        with torch.no_grad():\n",
    "            for x, y in test_loader_tqdm:\n",
    "                x, y = x.to(device), y.to(device)\n",
    "                output = model(x).squeeze(-1)\n",
    "                loss = criterion(output, y)\n",
    "                test_loss += loss.item() * x.size(0)\n",
    "\n",
    "                mae, rmse, mape = compute_metrics(output, y)\n",
    "                test_mae += mae\n",
    "                test_rmse += rmse\n",
    "                test_mape += mape\n",
    "\n",
    "        test_loss /= len(test_loader.dataset)\n",
    "        test_mae /= len(test_loader)\n",
    "        test_rmse /= len(test_loader)\n",
    "        test_mape /= len(test_loader)\n",
    "\n",
    "        writer.add_scalar(\"Loss/Test\", test_loss, epoch + 1)\n",
    "        writer.add_scalar(\"MAE/Test\", test_mae, epoch + 1)\n",
    "        writer.add_scalar(\"RMSE/Test\", test_rmse, epoch + 1)\n",
    "        writer.add_scalar(\"MAPE/Test\", test_mape, epoch + 1)\n",
    "\n",
    "        # Сохранение лучшей модели\n",
    "        if val_loss < best_val_loss:\n",
    "            best_val_loss = val_loss\n",
    "            torch.save(model.state_dict(), f\"{writer.log_dir}best_model.pth\")\n",
    "\n",
    "    writer.close()"
   ]
  },
  {
   "cell_type": "markdown",
   "metadata": {},
   "source": [
    "### Обучение, валидация и тестирование"
   ]
  },
  {
   "cell_type": "code",
   "execution_count": 104,
   "metadata": {},
   "outputs": [
    {
     "name": "stderr",
     "output_type": "stream",
     "text": [
      "                                                                         \r"
     ]
    }
   ],
   "source": [
    "# Инициализация TensorBoard\n",
    "writer = SummaryWriter(log_dir=f\"runs/T-GCN/speed_GCN_D w adpadj/\")\n",
    "train_val_test_model(model, train_loader, val_loader, test_loader, epochs=50, writer=writer)"
   ]
  },
  {
   "cell_type": "markdown",
   "metadata": {},
   "source": [
    "### Маскирование данных после обучения\n",
    "\n",
    "В теории, это должно помочь оценить, какие признаки дали свой вклад, если они были :)"
   ]
  },
  {
   "cell_type": "code",
   "execution_count": null,
   "metadata": {},
   "outputs": [],
   "source": [
    "# Перевод модели в режим тестирования\n",
    "writer = SummaryWriter(log_dir=f\"runs/T-GCN/removed_channel1 test/\")\n",
    "model.eval()\n",
    "\n",
    "# Подсчёт метрик для всех батчей\n",
    "test_loss, test_mae, test_rmse, test_mape = 0.0, 0.0, 0.0, 0.0\n",
    "total_batches = len(test_loader)\n",
    "\n",
    "# Пройдем все батчи и вычислим метрики\n",
    "with torch.no_grad():\n",
    "    for batch_idx, (history_data, target) in enumerate(test_loader):\n",
    "        history_data, target = history_data.to(device), target.to(device)\n",
    "\n",
    "        # Прогноз\n",
    "        output = model(history_data, removed_channel=1).squeeze(-1)  # removed_channel=1, чтобы исключить канал N=1\n",
    "        \n",
    "        # Вычисление потерь и метрик\n",
    "        loss = criterion(output, target)\n",
    "        mae, rmse, mape = compute_metrics(output, target)\n",
    "\n",
    "        # Добавляем в общие метрики\n",
    "        test_loss += loss.item() * history_data.size(0)\n",
    "        test_mae += mae\n",
    "        test_rmse += rmse\n",
    "        test_mape += mape\n",
    "\n",
    "        # Запись метрик в TensorBoard для текущего батча\n",
    "        writer.add_scalar(\"Loss/Test\", loss.item(), batch_idx + 1)\n",
    "        writer.add_scalar(\"MAE/Test\", mae, batch_idx + 1)\n",
    "        writer.add_scalar(\"RMSE/Test\", rmse, batch_idx + 1)\n",
    "        writer.add_scalar(\"MAPE/Test\", mape, batch_idx + 1)\n",
    "\n",
    "# Средние метрики по всем батчам\n",
    "test_loss /= len(test_loader.dataset)\n",
    "test_mae /= total_batches\n",
    "test_rmse /= total_batches\n",
    "test_mape /= total_batches\n",
    "\n",
    "# Запись средней метрики в TensorBoard\n",
    "writer.add_scalar(\"Loss/Test_Avg\", test_loss, 0)\n",
    "writer.add_scalar(\"MAE/Test_Avg\", test_mae, 0)\n",
    "writer.add_scalar(\"RMSE/Test_Avg\", test_rmse, 0)\n",
    "writer.add_scalar(\"MAPE/Test_Avg\", test_mape, 0)\n",
    "\n",
    "# Закрытие TensorBoard writer\n",
    "writer.close()\n",
    "\n",
    "# Вывод финальных результатов\n",
    "print(f\"Test Loss: {test_loss:.4f}, Test MAE: {test_mae:.4f}, Test RMSE: {test_rmse:.4f}, Test MAPE: {test_mape:.4f}\")"
   ]
  }
 ],
 "metadata": {
  "kernelspec": {
   "display_name": ".venv",
   "language": "python",
   "name": "python3"
  },
  "language_info": {
   "codemirror_mode": {
    "name": "ipython",
    "version": 3
   },
   "file_extension": ".py",
   "mimetype": "text/x-python",
   "name": "python",
   "nbconvert_exporter": "python",
   "pygments_lexer": "ipython3",
   "version": "3.10.11"
  }
 },
 "nbformat": 4,
 "nbformat_minor": 2
}
